{
 "cells": [
  {
   "cell_type": "markdown",
   "metadata": {
    "tags": []
   },
   "source": [
    "<figure width=100%>\n",
    "  <IMG SRC=\"https://www.colorado.edu/cs/profiles/express/themes/cuspirit/logo.png\" WIDTH=70 ALIGN=\"right\">\n",
    "</figure> \n",
    "    \n",
    "# Problem Set #6\n",
    "## CSCI 3287 \n",
    "<hr>\n",
    "    \n",
    "### Instructions / Notes:\n",
    "\n",
    "**_Read these carefully_**\n",
    "\n",
    "There are three problems in this assignment. \n",
    "   1. Double Buffering IO Costs is 40 points\n",
    "   1. IO Cost for different Join Algorithms is 35 points\n",
    "   1. Exploring the performance of Hash Join is 25 points. \n",
    "    \n",
    "Each problem has a number of sub-problems which indicate their individual number of points.     \n",
    "Although problem #1 is the most points, it's actually the easiest problem --     \n",
    "-- but the solution of problem #2 depends on being careful and understanding problem #1 completely.\n",
    "\n",
    "* **Please read all the points of the \"Notes\" sections- they're important for this PS!!!**\n",
    "* You **are not required to do any plotting in this PS- only in certain problems to provide the tuples that would generate a plot.**  You can then optionally plot (in the notebook with matplotlib)\n",
    "* You **may** create new IPython notebook cells to use for e.g. testing, debugging, exploring, etc.- this is encouraged in fact!- **just make sure that your final answer for each question is _in its own cell_ and _clearly indicated_**\n",
    "* _Have fun!_"
   ]
  },
  {
   "cell_type": "code",
   "execution_count": null,
   "metadata": {},
   "outputs": [],
   "source": []
  },
  {
   "cell_type": "markdown",
   "metadata": {},
   "source": [
    "Problem 1: Double Buffereing (40 points)\n",
    "------------------------\n",
    "In this problem we'll explore an optimization often referred to as **_Double Buffering_**, which we'll use to speed up the **external merge sort algorithm** we saw in lecture.\n",
    "\n",
    "Although we haven't explicitly modeled it in many of our calculations so far, recall that _sequential IO_ (i.e. involving reading from / writing to consecutive pages) is generally much faster that _random access IO_ (any reading / writing that is not sequential). Additionally, on newer memory technologies like SSD reading data can be faster than writing data (if you want to read more about SSD access patterns look [here](http://codecapsule.com/2014/02/12/coding-for-ssds-part-5-access-patterns-and-system-optimizations/). \n",
    "\n",
    "In other words, for example, if we read 4 consecutive pages from file **_A_**, this should be much faster than reading 1 page from **_A_**, then 1 page from file **_B_**, then the next page from **_A_**.\n",
    "\n",
    "**In this problem, we will begin to model this, by**\n",
    "* assuming that 3/4 sequential _READS_ are \"free\", i.e. the total cost of **_4_** sequential reads is **_1_** IO. \n",
    "* We will also assume that the writes are always twice as expensive as a read. Sequential writes are never free, therefore the cost of **_N_** writes is always **_2N_**.\n",
    "\n",
    "### Other important notes:\n",
    "* **NO REPACKING:** Consider the external merge sort algorithm using the basic optimizations we present in lecture, but do not use the repacking optimization covered in lecture.\n",
    "* **ONE BUFFER PAGE RESERVED FOR OUTPUT:** Assume we use one page for output in a merge, e.g. a **_B_**-way merge would require **_B+1_** buffer pages\n",
    "* **REMEMBER TO ROUND:** Take ceilings (i.e. rounding up to nearest integer values) into account in this problem for full credit!  Note that we have sometimes omitted these (for simplicity) in lecture. In Python, you can use `math.ceil()` to compute the ceiling (next largest integer).\n",
    "* **Consider worst case cost:** In other words, if 2 reads _could happen_ to be sequential, but in general might not be, consider these random IO."
   ]
  },
  {
   "cell_type": "code",
   "execution_count": 2,
   "metadata": {},
   "outputs": [],
   "source": [
    "import math"
   ]
  },
  {
   "cell_type": "markdown",
   "metadata": {},
   "source": [
    "### Q 1.1 [ 15 pts total ]\n",
    "\n",
    "Consider a modification of the external merge sort algorithm where **reads are always read in 4-page chunks (i.e. 4 pages sequentially at a time)** so as to take advantage of sequential reads. Calculate the cost of performing the external merge sort for a setup having $B+1=20$ buffer pages and an unsorted input file with $160$ pages.\n",
    "\n",
    "Show the steps of your work and make sure to explain your reasoning by writing them as python comments above the final answers.\n",
    "\n",
    "#### Q 1.1.1 [ 3 pts ]\n",
    "\n",
    "What is the **exact** IO cost of spliting and sorting the files? As is standard we want runs of size $B+1$."
   ]
  },
  {
   "cell_type": "code",
   "execution_count": 4,
   "metadata": {},
   "outputs": [],
   "source": [
    "N = 160\n",
    "B = 19"
   ]
  },
  {
   "cell_type": "code",
   "execution_count": 5,
   "metadata": {},
   "outputs": [
    {
     "data": {
      "text/plain": [
       "330"
      ]
     },
     "execution_count": 5,
     "metadata": {},
     "output_type": "execute_result"
    }
   ],
   "source": [
    "### BEGIN SOLUTION\n",
    "# To calculate the cost of splitting and sorting the files, we need to consider the reading and writing costs.\n",
    "# Since we are reading in 4-page chunks, every 4 pages read cost 1 IO. However, because writing costs are twice\n",
    "# that of reading and are never free, each page written will cost 2 IO.\n",
    "\n",
    "# Step 1: Calculate the number of reads\n",
    "# We read N pages in chunks of 4, so we have N/4 sequential reads.\n",
    "# But since 3/4 of these reads are \"free\", we only count 1/4 of them for cost.\n",
    "reads_cost = math.ceil(N / 4 / 4)\n",
    "\n",
    "# Step 2: Calculate the number of writes\n",
    "# Every page needs to be written out once it's sorted, and each write costs 2 IO.\n",
    "writes_cost = N * 2\n",
    "# The total IO cost is the sum of the reads and writes.\n",
    "io_split_sort = reads_cost + writes_cost\n",
    "\n",
    "io_split_sort  # display the result\n",
    "### END SOLUTION"
   ]
  },
  {
   "cell_type": "markdown",
   "metadata": {},
   "source": [
    "#### Q 1.1.2 [ 3 pts ] \n",
    "\n",
    "After the file is split and sorted, we can merge $n$ runs into 1 using the merge process. What is the largest $n$ we could have, given that reads are always read in 4-page chunks?    \n",
    "Note: this is known as the **_arity_** of the merge."
   ]
  },
  {
   "cell_type": "code",
   "execution_count": 6,
   "metadata": {},
   "outputs": [
    {
     "data": {
      "text/plain": [
       "4"
      ]
     },
     "execution_count": 6,
     "metadata": {},
     "output_type": "execute_result"
    }
   ],
   "source": [
    "### BEGIN SOLUTION\n",
    "# Provide a description of your solution as comments in this cell\n",
    "#\n",
    "# To determine the largest n, we need to consider that each run must be read in 4-page chunks.\n",
    "# Since we have B buffer pages, and one is reserved for output, we have B pages available for input.\n",
    "# Each run requires at least 4 pages in the buffer to read in chunks of 4 pages.\n",
    "# The number of runs we can merge at once, n, is the number of buffer pages divided by the chunk size.\n",
    "\n",
    "merge_arity = B // 4  # Using floor division because we can't have partial runs.\n",
    "merge_arity  "
   ]
  },
  {
   "cell_type": "markdown",
   "metadata": {},
   "source": [
    "#### Q 1.1.3 [ 3 pts ] \n",
    "\n",
    "How many passes of merging are required?"
   ]
  },
  {
   "cell_type": "code",
   "execution_count": 7,
   "metadata": {},
   "outputs": [
    {
     "data": {
      "text/plain": [
       "2"
      ]
     },
     "execution_count": 7,
     "metadata": {},
     "output_type": "execute_result"
    }
   ],
   "source": [
    "### BEGIN SOLUTION\n",
    "# Provide a description of your solution as comments in this cell\n",
    "#\n",
    "# To determine the number of merge passes required, we need to calculate how many times we need to merge 'n' runs together to end up with a single sorted file.\n",
    "# Initially, we have N/(B+1) runs from the splitting and sorting phase.\n",
    "# Each pass of merging reduces the number of runs by a factor of n, which is the arity of the merge.\n",
    "# The number of passes is the number of times we can divide the initial number of runs by n until we get 1.\n",
    "\n",
    "# Step 1: Calculate the initial number of runs.\n",
    "initial_runs = math.ceil(N / (B + 1))\n",
    "\n",
    "# Step 2: Calculate the number of passes of merging needed.\n",
    "# This is the ceiling of the logarithm base 'n' of the initial number of runs.\n",
    "merge_passes = math.ceil(math.log(initial_runs, merge_arity))\n",
    "merge_passes  # display the result"
   ]
  },
  {
   "cell_type": "markdown",
   "metadata": {},
   "source": [
    "#### Q 1.1.4 [3 pts]\n",
    "\n",
    "What is the IO cost of the first pass of merging? Note: the highest arity merge should always be used."
   ]
  },
  {
   "cell_type": "code",
   "execution_count": 9,
   "metadata": {
    "tags": []
   },
   "outputs": [
    {
     "data": {
      "text/plain": [
       "165"
      ]
     },
     "execution_count": 9,
     "metadata": {},
     "output_type": "execute_result"
    }
   ],
   "source": [
    "### BEGIN SOLUTION\n",
    "# Provide a description of your solution as comments in this cell\n",
    "#\n",
    "# In the first pass, we use the highest arity, which is 4.\n",
    "# Each merge reads and writes runs of size B + 1, but since we are reading in 4-page chunks,\n",
    "# 3/4 of these reads are \"free\". However, each page written costs 2 IOs.\n",
    "\n",
    "# Step 1: Calculate the total number of pages to read and write during the first pass\n",
    "# We have N/(B+1) initial runs, and we merge 'merge_arity' of them in each pass.\n",
    "initial_runs = math.ceil(N / (B + 1))\n",
    "runs_to_merge = min(merge_arity, initial_runs)\n",
    "\n",
    "# Each run is of size B+1, so for each run we read and write B+1 pages\n",
    "pages_per_run = B + 1\n",
    "total_pages_to_read_write = runs_to_merge * pages_per_run\n",
    "\n",
    "# Step 2: Calculate the IO cost for reads\n",
    "# Reading in 4-page chunks, so every 4 pages read cost 1 IO, but we only pay for 1/4 of the reads.\n",
    "reads_cost_first_pass = math.ceil((total_pages_to_read_write / 4) / 4)\n",
    "\n",
    "# Step 3: Calculate the IO cost for writes\n",
    "# Each page written costs 2 IOs.\n",
    "writes_cost_first_pass = total_pages_to_read_write * 2\n",
    "\n",
    "# The total IO cost for the first pass is the sum of reads and writes.\n",
    "io_cost_first_pass = reads_cost_first_pass + writes_cost_first_pass\n",
    "io_cost_first_pass"
   ]
  },
  {
   "cell_type": "markdown",
   "metadata": {},
   "source": [
    "#### Q 1.1.5 [3 pts]\n",
    "\n",
    "What is the total IO cost of running this external merge sort algorithm? **Do not forget to add in the remaining passes (if any) of merging.**"
   ]
  },
  {
   "cell_type": "code",
   "execution_count": 10,
   "metadata": {},
   "outputs": [
    {
     "data": {
      "text/plain": [
       "578"
      ]
     },
     "execution_count": 10,
     "metadata": {},
     "output_type": "execute_result"
    }
   ],
   "source": [
    "### BEGIN SOLUTION\n",
    "# Provide a description of your solution as comments in this cell\n",
    "#\n",
    "# Merge the remaining runs. The number of remaining runs is the total number of initial runs\n",
    "# divided by the number of runs we merged in the first pass.\n",
    "remaining_runs = math.ceil(initial_runs / runs_to_merge)\n",
    "\n",
    "# The IO cost for reads and writes for the final pass is calculated in the same way as for the first pass\n",
    "reads_cost_final_pass = math.ceil((remaining_runs * pages_per_run / 4) / 4)\n",
    "writes_cost_final_pass = remaining_runs * pages_per_run * 2\n",
    "\n",
    "# The total IO cost for the final pass is the sum of reads and writes\n",
    "io_cost_final_pass = reads_cost_final_pass + writes_cost_final_pass\n",
    "\n",
    "# The total IO cost is the sum of the costs for splitting and sorting, the first pass, and the final pass\n",
    "total_io = io_split_sort + io_cost_first_pass + io_cost_final_pass\n",
    "\n",
    "total_io"
   ]
  },
  {
   "cell_type": "markdown",
   "metadata": {},
   "source": [
    "### Q 1.2 [ 15 pts ]\n",
    "\n",
    "Now, we'll generalize the reasoning above by writing a python function that computes the $approximate^{*}$ cost of performing this version of external merge sort for a setup having $B+1$ buffer pages, a file with $N$ pages, and where we now read in $P$-page chunks (replacing our fixed 4 page chunks in Part (a)).\n",
    "\n",
    "**Note: our approximation will be a small one- for simplicity, we'll assume that each pass of the merge phase has the same IO cost, when actually it can vary slightly... Everything else will be exact given our model!* \n",
    "\n",
    "We'll call this function `external_merge_sort_cost(B,N,P)`, and we'll compute it as the product of the cost of reading in and writing out all the data (which we do each pass), and the number of passes we'll have to do.\n",
    "\n",
    "Even though this is an approximation, **make sure to take care of floor / ceiling operations- i.e. rounding down / up to integer values properly!**\n",
    "\n",
    "**Importantly, to simplify your calculations: Your function will only be evaluated in future problems on cases where the following hold:**\n",
    "* **(B + 1) % P == 0** (i.e. the buffer size is divisible by the chunk size)\n",
    "* **N % (B + 1) == 0** (i.e. the file size is divisible by the buffer size)\n",
    "\n",
    "This means you can just use `N/(B+1)` instead of needing to use `math.ceil(N/(B+1))` and `N/P` instead of `math.ceil(N/P)` in your calculations."
   ]
  },
  {
   "cell_type": "markdown",
   "metadata": {},
   "source": [
    "#### Q 1.2.1 [ 5 pts ] \n",
    "\n",
    "First, let's write a python function that computes the **exact** total IO cost to create the initial runs:"
   ]
  },
  {
   "cell_type": "code",
   "execution_count": 13,
   "metadata": {},
   "outputs": [
    {
     "name": "stdout",
     "output_type": "stream",
     "text": [
      "Testing results:\n",
      "225\n",
      "2125\n",
      "1650\n"
     ]
    }
   ],
   "source": [
    "### BEGIN SOLUTION\n",
    "def cost_initial_runs(B, N, P):\n",
    "    # Calculate the number of reads. Since N/P chunks are read and each chunk read costs 1 IO\n",
    "    # the total read cost is just N/P.\n",
    "    reads_cost = N / P\n",
    "    \n",
    "    # Calculate the number of writes. Each page write costs 2 IO.\n",
    "    # Since we write N pages, the total write cost is N*2.\n",
    "    writes_cost = N * 2\n",
    "    \n",
    "    # The total IO cost for creating the initial runs is the sum of the reads and writes.\n",
    "    total_cost = reads_cost + writes_cost\n",
    "    return int(total_cost)  # convert to int for exact IO cost as specified\n",
    "\n",
    "# Testing the function with given values\n",
    "print(\"Testing results:\")\n",
    "print(cost_initial_runs(10, 100, 4))   # should produce 225\n",
    "print(cost_initial_runs(100, 1000, 8))  # should produce 2125\n",
    "print(cost_initial_runs(32, 800, 16))  # should produce 1650"
   ]
  },
  {
   "cell_type": "markdown",
   "metadata": {},
   "source": [
    "#### Q 1.2.2 [ 5 pts ]\n",
    "\n",
    "Next, let's write a python function that computes the _approximate_* total IO cost to read in and then write out all the data during one pass of the merge:"
   ]
  },
  {
   "cell_type": "code",
   "execution_count": 14,
   "metadata": {},
   "outputs": [
    {
     "name": "stdout",
     "output_type": "stream",
     "text": [
      "Testing results:\n",
      "3400\n",
      "1700\n",
      "1875\n"
     ]
    }
   ],
   "source": [
    "### BEGIN SOLUTION\n",
    "def cost_per_pass(B, N, P):\n",
    "    \n",
    "    # Calculate the number of reads. Since N/P chunks are read and each chunk read costs 1 IO,\n",
    "    # the total read cost is just N/P.\n",
    "    reads_cost = N / P\n",
    "\n",
    "    # Calculate the number of writes. Each page write costs 2 IO.\n",
    "    # Since we write N pages, the total write cost is N*2.\n",
    "    writes_cost = N * 2\n",
    "\n",
    "\n",
    "\n",
    "    # The total IO cost for one pass of the merge is the sum of the reads and writes.\n",
    "    total_cost = reads_cost + writes_cost\n",
    "    return int(total_cost)  # convert to int for approximate IO cost as specified\n",
    "\n",
    "# Testing the function with given values\n",
    "print(\"Testing results:\")\n",
    "print(cost_per_pass(32, 1600, 8))   # should produce 3400\n",
    "print(cost_per_pass(12, 800, 8))    # should produce 1700\n",
    "print(cost_per_pass(11, 900, 12))   # should produce 1875"
   ]
  },
  {
   "cell_type": "markdown",
   "metadata": {},
   "source": [
    "**Note that this is an approximation: when we read in chunks during the merge phase, the cost per pass actually varies slightly due to 'rounding issues'  when the file is split up into runs... but this is a small difference*"
   ]
  },
  {
   "cell_type": "markdown",
   "metadata": {},
   "source": [
    "#### Q 1.2.3 [ 5 pts ]\n",
    "\n",
    "Next, let's write a python function that computes the **exact** total number of passes we'll need to do"
   ]
  },
  {
   "cell_type": "code",
   "execution_count": 15,
   "metadata": {},
   "outputs": [
    {
     "name": "stdout",
     "output_type": "stream",
     "text": [
      "Testing results:\n",
      "7\n",
      "3\n",
      "2\n",
      "1\n"
     ]
    }
   ],
   "source": [
    "### BEGIN SOLUTION\n",
    "def num_passes(B, N, P):\n",
    "\n",
    "    # Calculate the initial number of runs\n",
    "    initial_runs = N // (B + 1)\n",
    "    \n",
    "    # Calculate the merge arity, which is the maximum number of runs we can merge in one pass.\n",
    "    # This is the number of buffer pages available for input divided by P.\n",
    "    merge_arity = B // P\n",
    "\n",
    "    # Calculate the number of passes needed. This is the number of times we need to merge 'merge_arity' runs together\n",
    "    # until we end up with a single run. We use the logarithm base 'merge_arity' and take the ceiling of the result.\n",
    "    num_passes_needed = math.ceil(math.log(initial_runs, merge_arity))\n",
    "    return num_passes_needed\n",
    "\n",
    "# Testing the function with given values\n",
    "print(\"Testing results:\")\n",
    "print(num_passes(11, 900, 4))   # should produce 7\n",
    "print(num_passes(63, 1600, 16)) # should produce 3\n",
    "print(num_passes(63, 1600, 8))  # should produce 2\n",
    "print(num_passes(31, 100, 4))   # should produce 1"
   ]
  },
  {
   "cell_type": "markdown",
   "metadata": {},
   "source": [
    "Finally, our total cost function is:"
   ]
  },
  {
   "cell_type": "code",
   "execution_count": 22,
   "metadata": {},
   "outputs": [
    {
     "name": "stdout",
     "output_type": "stream",
     "text": [
      "Testing results:\n",
      "9130\n",
      "3824\n",
      "123750\n"
     ]
    }
   ],
   "source": [
    "### BEGIN SOLUTION\n",
    "# I think the slight difference in results has to be due to rounding issues in my previous functions.\n",
    "def external_merge_sort_cost(B, N, P):\n",
    "    # The total cost is the sum of the initial run creation cost and the cost per pass multiplied by the number of passes.\n",
    "    return cost_initial_runs(B, N, P) + cost_per_pass(B, N, P) * num_passes(B, N, P)\n",
    "\n",
    "# Testing the function with given values\n",
    "print(\"Testing results:\")\n",
    "print(external_merge_sort_cost(99, 900, 34))   # should generate 9134\n",
    "print(external_merge_sort_cost(99, 900, 8))    # should generate 3825\n",
    "print(external_merge_sort_cost(63, 10000, 16)) # should produce 123750"
   ]
  },
  {
   "cell_type": "markdown",
   "metadata": {},
   "source": [
    "### Q 1.3 [5 points]\n",
    "\n",
    "For $B + 1 =100$ and $N=900$, find the optimal $P$ according to your IO cost equation above.  Return both the optimal $P$ value (`P_opt`) and the list of tuples **_for feasible values of $P$_** that would generate a plot of P vs. IO cost, at resolution $=1$ (use every integer value of P possible), stored as `points`.  Don't worry about the divisibility of the buffers and read size, calculate the `points` using your `external_merge_sort_cost` function\n",
    "\n",
    "What is the largest possible value of P based on value of B and/or N?  This is your limit of feasible values to use in the plot."
   ]
  },
  {
   "cell_type": "markdown",
   "metadata": {},
   "source": [
    "### I gave up on this one"
   ]
  },
  {
   "cell_type": "code",
   "execution_count": 121,
   "metadata": {},
   "outputs": [
    {
     "ename": "ZeroDivisionError",
     "evalue": "float division by zero",
     "output_type": "error",
     "traceback": [
      "\u001b[0;31m---------------------------------------------------------------------------\u001b[0m",
      "\u001b[0;31mZeroDivisionError\u001b[0m                         Traceback (most recent call last)",
      "Cell \u001b[0;32mIn[121], line 20\u001b[0m\n\u001b[1;32m     18\u001b[0m \u001b[38;5;66;03m# Proceed only if merge_arity is not zero to avoid division by zero in num_passes\u001b[39;00m\n\u001b[1;32m     19\u001b[0m \u001b[38;5;28;01mif\u001b[39;00m merge_arity \u001b[38;5;241m>\u001b[39m \u001b[38;5;241m0\u001b[39m:\n\u001b[0;32m---> 20\u001b[0m     current_cost \u001b[38;5;241m=\u001b[39m \u001b[43mexternal_merge_sort_cost\u001b[49m\u001b[43m(\u001b[49m\u001b[38;5;241;43m99\u001b[39;49m\u001b[43m,\u001b[49m\u001b[43m \u001b[49m\u001b[38;5;241;43m900\u001b[39;49m\u001b[43m,\u001b[49m\u001b[43m \u001b[49m\u001b[43mP\u001b[49m\u001b[43m)\u001b[49m\n\u001b[1;32m     21\u001b[0m     points\u001b[38;5;241m.\u001b[39mappend((P, current_cost))\n\u001b[1;32m     22\u001b[0m     \u001b[38;5;28;01mif\u001b[39;00m current_cost \u001b[38;5;241m<\u001b[39m P_opt_cost:\n",
      "Cell \u001b[0;32mIn[121], line 5\u001b[0m, in \u001b[0;36mexternal_merge_sort_cost\u001b[0;34m(B, N, P)\u001b[0m\n\u001b[1;32m      3\u001b[0m \u001b[38;5;28;01mdef\u001b[39;00m \u001b[38;5;21mexternal_merge_sort_cost\u001b[39m(B, N, P):\n\u001b[1;32m      4\u001b[0m     \u001b[38;5;66;03m# The total cost is the sum of the initial run creation cost and the cost per pass multiplied by the number of passes\u001b[39;00m\n\u001b[0;32m----> 5\u001b[0m     \u001b[38;5;28;01mreturn\u001b[39;00m cost_initial_runs(B, N, P) \u001b[38;5;241m+\u001b[39m cost_per_pass(B, N, P) \u001b[38;5;241m*\u001b[39m \u001b[43mnum_passes\u001b[49m\u001b[43m(\u001b[49m\u001b[43mB\u001b[49m\u001b[43m,\u001b[49m\u001b[43m \u001b[49m\u001b[43mN\u001b[49m\u001b[43m,\u001b[49m\u001b[43m \u001b[49m\u001b[43mP\u001b[49m\u001b[43m)\u001b[49m\n",
      "Cell \u001b[0;32mIn[15], line 13\u001b[0m, in \u001b[0;36mnum_passes\u001b[0;34m(B, N, P)\u001b[0m\n\u001b[1;32m      9\u001b[0m merge_arity \u001b[38;5;241m=\u001b[39m B \u001b[38;5;241m/\u001b[39m\u001b[38;5;241m/\u001b[39m P\n\u001b[1;32m     11\u001b[0m \u001b[38;5;66;03m# Calculate the number of passes needed. This is the number of times we need to merge 'merge_arity' runs together\u001b[39;00m\n\u001b[1;32m     12\u001b[0m \u001b[38;5;66;03m# until we end up with a single run. We use the logarithm base 'merge_arity' and take the ceiling of the result.\u001b[39;00m\n\u001b[0;32m---> 13\u001b[0m num_passes_needed \u001b[38;5;241m=\u001b[39m math\u001b[38;5;241m.\u001b[39mceil(\u001b[43mmath\u001b[49m\u001b[38;5;241;43m.\u001b[39;49m\u001b[43mlog\u001b[49m\u001b[43m(\u001b[49m\u001b[43minitial_runs\u001b[49m\u001b[43m,\u001b[49m\u001b[43m \u001b[49m\u001b[43mmerge_arity\u001b[49m\u001b[43m)\u001b[49m)\n\u001b[1;32m     14\u001b[0m \u001b[38;5;28;01mreturn\u001b[39;00m num_passes_needed\n",
      "\u001b[0;31mZeroDivisionError\u001b[0m: float division by zero"
     ]
    }
   ],
   "source": [
    "### BEGIN SOLUTION\n",
    "# Save the optimal value here\n",
    "def external_merge_sort_cost(B, N, P):\n",
    "    # The total cost is the sum of the initial run creation cost and the cost per pass multiplied by the number of passes\n",
    "    return cost_initial_runs(B, N, P) + cost_per_pass(B, N, P) * num_passes(B, N, P)\n",
    "\n",
    "P_opt = None\n",
    "P_opt_cost = float('inf')\n",
    "points = []\n",
    "\n",
    "# The largest possible value of P is the buffer size B+1\n",
    "P_max = 100\n",
    "\n",
    "# Calculate the IO cost for each P and find the optimal P\n",
    "for P in range(1, P_max + 1):\n",
    "    if (100 % P == 0) and (900 % P == 0):  # Ensure divisibility conditions are met\n",
    "        merge_arity = 99 // P\n",
    "        # Proceed only if merge_arity is not zero to avoid division by zero in num_passes\n",
    "        if merge_arity > 0:\n",
    "            current_cost = external_merge_sort_cost(99, 900, P)\n",
    "            points.append((P, current_cost))\n",
    "            if current_cost < P_opt_cost:\n",
    "                P_opt_cost = current_cost\n",
    "                P_opt = P\n",
    "\n",
    "(P_opt, points)\n",
    "# Save a list of tuples of (P, io_cost) here, for all feasible P's\n",
    "points = [(0,0), (5,10), (10,1)]  # you need to create a list of tuples to be plotted"
   ]
  },
  {
   "cell_type": "markdown",
   "metadata": {},
   "source": [
    "Below we provide starter code for using `matplotlib` in the notebook, if you want to generate the graph of P vs. IO cost. Your value for `points` should be tuples of the form (P, io_cost)"
   ]
  },
  {
   "cell_type": "code",
   "execution_count": 31,
   "metadata": {},
   "outputs": [
    {
     "data": {
      "image/png": "[encoded data removed]",
      "text/plain": [
       "<Figure size 640x480 with 1 Axes>"
      ]
     },
     "metadata": {},
     "output_type": "display_data"
    }
   ],
   "source": [
    "# Shell code for plotting in matplotlib\n",
    "# this will plot a set of points given in the `points` list variable.  \n",
    "# Each item in the list is a tuple (P, cost)\n",
    "%matplotlib inline\n",
    "import matplotlib.pyplot as plt\n",
    "\n",
    "# Plot\n",
    "plt.plot(*zip(*points))\n",
    "plt.title(\"IO Cost vs. Page chunk size\")\n",
    "plt.ylabel(\"Cost in IO\")\n",
    "plt.xlabel(\"Page chunk size: P\")\n",
    "plt.show()"
   ]
  },
  {
   "cell_type": "markdown",
   "metadata": {
    "colab_type": "text",
    "id": "FUN_xnlbL-7s"
   },
   "source": [
    "* You need to answer the following:     \n",
    "     * What is the optimal (lowest cost) Page chunk size, $P_{opt}$? \n",
    "     * Explain the graph's shape.\n",
    "     * Explain what happens at $P_{opt}+1$ to cause it to be less optimal.\n",
    "* The graph drawing below is approximately what your graph should like.    \n",
    "     \n",
    "<figure width=40%>\n",
    "  <IMG SRC=\"./cost_graph.png\" WIDTH=340;\">\n",
    "</figure>\n",
    "\n"
   ]
  },
  {
   "cell_type": "code",
   "execution_count": null,
   "metadata": {
    "colab": {
     "base_uri": "https://localhost:8080/",
     "height": 62
    },
    "colab_type": "code",
    "id": "2wpLGafcNA-K",
    "outputId": "5e2b6b09-a9e2-4dd9-faa2-82913895b13e"
   },
   "outputs": [],
   "source": [
    "### BEGIN SOLUTION\n",
    "# Optimal page chunk size\n",
    "P_opt = -1  # answer is some integer value between 1 and size of memory\n",
    "\n",
    "# EXPLAIN WHAT HAPPENS AT P_OPT+1 HERE\n",
    "# Cost value at P_opt-1 should be higher than at P_opt\n",
    "# Cost value at P_opt+1 should be higher than at P_opt\n",
    "\n",
    "\n",
    "print('num passes with P_opt:', num_passes(B, N, P_opt))\n",
    "print('num passes with P_opt_plus_1:', num_passes(B, N, P_opt + 1))"
   ]
  },
  {
   "cell_type": "markdown",
   "metadata": {},
   "source": [
    "<hr><hr>\n",
    "\n",
    "Problem 2: IO Cost Models [ 35 pts total ]\n",
    "--------------------------------------"
   ]
  },
  {
   "cell_type": "markdown",
   "metadata": {},
   "source": [
    "In this problem we consider different join algorithms when joining relations $R(A,B)$,$S(B,C)$, and $T(C,D)$. We want to investigate the cost of various pairwise join plans and try to determine the best join strategy given some conditions.\n",
    "\n",
    "Specifically, for each part of this question, we are intereseted determining some (or all) of the following variables:\n",
    "\n",
    "* `P_R`: Number of pages of $R$\n",
    "* `P_S`: Number of pages of $S$\n",
    "* `P_RS`: Number of pages of output (and input) $RS$\n",
    "* `P_T`: Number of pages of $T$\n",
    "* `P_RST`: Number of pages of output (and input) $RS$\n",
    "* `B`: Number of pages in buffer (this is all memory buffers)\n",
    "* `IO_cost_join1`: Total IO cost of first join\n",
    "* `IO_cost_join2`: Total IO cost of second join\n",
    "* Read and Write IO cost = 1\n",
    "* Number of pages per read = 1\n",
    "\n",
    "\n",
    "#### Note:\n",
    "* ** The output of join1 is always feed as one of the inputs to join 2 ** \n",
    "* **Use the \"vanilla\" versions of the algorithms as presented in lecture, _i.e. without any of the optimizations we mentioned_**\n",
    "* **Again assume we use one page for output, as in lecture!**\n",
    "* ** The abbreviations for the joins used are Sort-Merge Join (SMJ), Hash Join (HJ), and Block Nested Loop Join (BNLJ). **"
   ]
  },
  {
   "cell_type": "markdown",
   "metadata": {},
   "source": [
    "### Q 2.1 - Compute the IO cost for the query plans\n",
    "\n",
    "Constants to use in claculations    \n",
    "Given:\n",
    "* `P_R`: 10\n",
    "* `P_S`: 100\n",
    "* `P_T`: 1000\n",
    "* `P_RS`: 50\n",
    "* `P_ST`: 500\n",
    "* `P_RST`: 250\n",
    "* `B`: 32\n",
    "\n",
    "Compute the IO cost for the query plans. Each query plan contains multiple joins.  Include 1-2 sentences (as a python comment) above each answer explaining the performance for each algorithm/query plan. You can express your answer using the values `P_R` _etc_ that are defined below and you can use your `external_merge_sort_cost` function to check or compute your results if you believe it's correct\n",
    "\n",
    "**Note: again, be careful of rounding for this problem. Use ceiling/floors whenever it is necessary.**"
   ]
  },
  {
   "cell_type": "code",
   "execution_count": 113,
   "metadata": {},
   "outputs": [],
   "source": [
    "P_R = 10\n",
    "P_S = 100\n",
    "P_T = 1000\n",
    "P_RS = 50\n",
    "P_ST = 500\n",
    "P_RST = 250\n",
    "B = 32"
   ]
  },
  {
   "cell_type": "markdown",
   "metadata": {},
   "source": [
    "<hr>\n",
    "\n",
    "### Q 2.1.1 IO_Cost_BNLJ_1 [ 5 pts ]\n",
    "where only block nested loop join is used, $join1 = R(a,b),S(b,c)$ and $join2 = join1(a,b,c),T(c,d)$"
   ]
  },
  {
   "cell_type": "code",
   "execution_count": 114,
   "metadata": {},
   "outputs": [
    {
     "data": {
      "text/plain": [
       "1760"
      ]
     },
     "execution_count": 114,
     "metadata": {},
     "output_type": "execute_result"
    }
   ],
   "source": [
    "### BEGIN SOLUTION\n",
    "# describe your solution in comments\n",
    "# For BNLJ, the cost for one join is the cost to read R once and then read S in chunks that fit in the buffer minus two\n",
    "# Add the cost for the second join.\n",
    "# Calculate the IO cost for the first join\n",
    "IO_cost_join1 = P_R + (P_R * P_S) / (B - 2)\n",
    "\n",
    "# Calculate the IO cost for the second join\n",
    "IO_cost_join2 = P_RS + (P_RS * P_T) / (B - 2)\n",
    "\n",
    "# The total IO cost is the sum of the two individual join costs\n",
    "IO_Cost_BNLJ_1 = IO_cost_join1 + IO_cost_join2\n",
    "IO_Cost_BNLJ_1 = math.ceil(IO_Cost_BNLJ_1)  # Rounding up to the nearest integer\n",
    "IO_Cost_BNLJ_1  # display the result"
   ]
  },
  {
   "cell_type": "markdown",
   "metadata": {},
   "source": [
    "### Q 2.1.2 IO_Cost_BNLJ_2 [ 5 pts ]\n",
    "where only block nested loop merge join is used, $join1 = T(c,d),S(b,c)$ and $join2 = join1(b,c,d),R(a,b)$"
   ]
  },
  {
   "cell_type": "code",
   "execution_count": 115,
   "metadata": {},
   "outputs": [
    {
     "data": {
      "text/plain": [
       "5001"
      ]
     },
     "execution_count": 115,
     "metadata": {},
     "output_type": "execute_result"
    }
   ],
   "source": [
    "### BEGIN SOLUTION\n",
    "# describe your solution in comments\n",
    "\n",
    "# For BNLJ, the cost for one join is the cost to read the outer relation once and then read the inner relation in blocks\n",
    "# T is the outer relation for join1, and join1 is the outer relation for join2\n",
    "# Calculate IO cost for the first join\n",
    "IO_cost_join1 = P_T + (P_T * P_S) / (B - 2)\n",
    "\n",
    "# Calculate IO cost for the second join \n",
    "# We use P_ST as the size of join1\n",
    "IO_cost_join2 = P_ST + (P_ST * P_R) / (B - 2)\n",
    "\n",
    "# The total IO cost is the sum of the two individual join costs\n",
    "IO_Cost_BNLJ_2 = IO_cost_join1 + IO_cost_join2\n",
    "IO_Cost_BNLJ_2 = math.ceil(IO_Cost_BNLJ_2)  # Rounding up to the nearest integer\n",
    "IO_Cost_BNLJ_2  # display the result"
   ]
  },
  {
   "cell_type": "markdown",
   "metadata": {},
   "source": [
    "<hr>\n",
    "\n",
    "### Q 2.1.3 IO_Cost_SMJ_1 [ 5 pts ]\n",
    "where only sort merge join is used, $join1 = R(a,b),S(b,c)$ and $join2 = join1(a,b,c),T(c,d)$"
   ]
  },
  {
   "cell_type": "code",
   "execution_count": 116,
   "metadata": {},
   "outputs": [
    {
     "data": {
      "text/plain": [
       "7780"
      ]
     },
     "execution_count": 116,
     "metadata": {},
     "output_type": "execute_result"
    }
   ],
   "source": [
    "### BEGIN SOLUTION\n",
    "# describe your solution in comments\n",
    "\n",
    "# For Sort Merge Join, we need to sort both relations if they are not already sorted and then merge them.\n",
    "# The sort cost for each relation is given by external_merge_sort_cost function.\n",
    "# After sorting, the merge cost is the sum of the sizes of both relations.\n",
    "def external_merge_sort_cost(B, N):\n",
    "    # Calculate the number of runs\n",
    "    num_runs = math.ceil(N / B)\n",
    "    # Calculate the number of passes needed\n",
    "    num_passes = 0 if num_runs == 1 else math.ceil(math.log(num_runs, B - 1))\n",
    "    # Calculate the IO cost for reads and writes for all passes\n",
    "    total_IO = 2 * N * (num_passes + 1)  # +1 for the initial run creation\n",
    "    return total_IO\n",
    "\n",
    "# Calculate IO cost to sort R and S and merge them\n",
    "IO_cost_sort_R = external_merge_sort_cost(B, P_R)\n",
    "IO_cost_sort_S = external_merge_sort_cost(B, P_S)\n",
    "IO_cost_merge_RS = P_R + P_S  # Merge cost after sorting\n",
    "\n",
    "# Calculate IO cost to sort join1 and T and merge them\n",
    "IO_cost_sort_RS = external_merge_sort_cost(B, P_RS)\n",
    "IO_cost_sort_T = external_merge_sort_cost(B, P_T)\n",
    "IO_cost_merge_RST = P_RS + P_T  # Merge cost after sorting\n",
    "\n",
    "# Sum the costs to get the total IO cost for SMJ\n",
    "IO_Cost_SMJ_1 = IO_cost_sort_R + IO_cost_sort_S + IO_cost_merge_RS + IO_cost_sort_RS + IO_cost_sort_T + IO_cost_merge_RST\n",
    "\n",
    "IO_Cost_SMJ_1  # display the result"
   ]
  },
  {
   "cell_type": "markdown",
   "metadata": {},
   "source": [
    "### Q 2.1.4 IO_Cost_SMJ_2 [ 5 pts ]\n",
    "where only sort merge join is used, $join1 = T(c,d),S(b,c)$ and $join2 = join1(b,c,d),R(a,b)$"
   ]
  },
  {
   "cell_type": "code",
   "execution_count": 117,
   "metadata": {},
   "outputs": [
    {
     "data": {
      "text/plain": [
       "10030"
      ]
     },
     "execution_count": 117,
     "metadata": {},
     "output_type": "execute_result"
    }
   ],
   "source": [
    "### BEGIN SOLUTION\n",
    "# describe your solution in comments\n",
    "\n",
    "# Calculate IO cost to sort T and S and merge them\n",
    "IO_cost_sort_T = external_merge_sort_cost(B, P_T)\n",
    "IO_cost_sort_S = external_merge_sort_cost(B, P_S)\n",
    "IO_cost_merge_ST = P_T + P_S  # Merge cost after sorting\n",
    "\n",
    "# Calculate IO cost to sort join1 and R and merge them\n",
    "# We use P_ST as the size of join1, assuming join1's output is the outer relation for join2\n",
    "IO_cost_sort_ST = external_merge_sort_cost(B, P_ST)\n",
    "IO_cost_sort_R = external_merge_sort_cost(B, P_R)\n",
    "IO_cost_merge_RST = P_ST + P_R  # Merge cost after sorting\n",
    "\n",
    "# Sum the costs to get the total IO cost for SMJ\n",
    "IO_Cost_SMJ_2 = IO_cost_sort_T + IO_cost_sort_S + IO_cost_merge_ST + IO_cost_sort_ST + IO_cost_sort_R + IO_cost_merge_RST\n",
    "\n",
    "IO_Cost_SMJ_2  # display the result"
   ]
  },
  {
   "cell_type": "markdown",
   "metadata": {},
   "source": [
    "<hr>\n",
    "\n",
    "### Q 2.1.5 IO_Cost_HJ_1 [ 5 pts ]\n",
    "where only hash join is used, $join1 = R(a,b),S(b,c)$ and $join2 = join1(a,b,c),T(c,d)$"
   ]
  },
  {
   "cell_type": "code",
   "execution_count": 118,
   "metadata": {},
   "outputs": [
    {
     "data": {
      "text/plain": [
       "1160"
      ]
     },
     "execution_count": 118,
     "metadata": {},
     "output_type": "execute_result"
    }
   ],
   "source": [
    "### BEGIN SOLUTION\n",
    "# describe your solution in comments\n",
    "\n",
    "# For Hash Join, the IO cost is the cost to read both relations once.\n",
    "# If both relations fit into memory, no additional costs are incurred for building or probing the hash table.\n",
    "\n",
    "# Calculate IO cost for the first join (join1 = R(a,b), S(b,c))\n",
    "IO_cost_join1 = P_R + P_S\n",
    "\n",
    "# Calculate IO cost for the second join (join2 = join1(a,b,c), T(c,d))\n",
    "IO_cost_join2 = P_RS + P_T\n",
    "\n",
    "# The total IO cost is the sum of the two individual join costs\n",
    "IO_Cost_HJ_1 = IO_cost_join1 + IO_cost_join2\n",
    "IO_Cost_HJ_1  # display the result"
   ]
  },
  {
   "cell_type": "markdown",
   "metadata": {},
   "source": [
    "### Q 2.1.6  IO_Cost_HJ_2 [ 5 pts ]\n",
    "where only hash join is used, $join1 = T(c,d),S(b,c)$ and $join2 = join1(b,c,d),R(a,b)$"
   ]
  },
  {
   "cell_type": "code",
   "execution_count": 119,
   "metadata": {},
   "outputs": [
    {
     "data": {
      "text/plain": [
       "1610"
      ]
     },
     "execution_count": 119,
     "metadata": {},
     "output_type": "execute_result"
    }
   ],
   "source": [
    "### BEGIN SOLUTION\n",
    "# describe your solution in comments\n",
    "\n",
    "# For Hash Join (HJ), the IO cost is the cost to read both relations once for each join operation.\n",
    "# Calculate IO cost for the first join (join1 = T(c,d), S(b,c))\n",
    "IO_cost_join1 = P_T + P_S\n",
    "\n",
    "# Calculate IO cost for the second join (join2 = join1(b,c,d), R(a,b))\n",
    "# We assume that the output of join1 is small enough to be used to build the hash table\n",
    "IO_cost_join2 = P_ST + P_R\n",
    "\n",
    "# The total IO cost is the sum of the two individual join costs\n",
    "IO_Cost_HJ_2 = IO_cost_join1 + IO_cost_join2\n",
    "IO_Cost_HJ_2  # display the result"
   ]
  },
  {
   "cell_type": "markdown",
   "metadata": {},
   "source": [
    "<hr>\n",
    "\n",
    "### Q 2.2.1 [ 5 pts ]\n",
    "\n",
    "For the query plan where $join1 = R(a,b),S(b,c)$ and $join2 = join1(a,b,c),T(c,d)$     \n",
    "find a configuration (combination of values for P_R, P_S, _etc_) where \n",
    "* using HJ for $join1$ and SMJ for $join2$ is cheaper \n",
    "* than SMJ for $join1$ and HJ for $join2$. \n",
    "\n",
    "The output sizes you choose for P_RS and P_RS must be non-zero and feasible (e.g. the maximum output size of $join1$ is P_R*P_S). "
   ]
  },
  {
   "cell_type": "code",
   "execution_count": 120,
   "metadata": {},
   "outputs": [
    {
     "data": {
      "text/plain": [
       "(5, 100, 10000, 20, 2000, 32, 70165, 10535)"
      ]
     },
     "execution_count": 120,
     "metadata": {},
     "output_type": "execute_result"
    }
   ],
   "source": [
    "### BEGIN SOLUTION\n",
    "# describe your solution in comments\n",
    "\n",
    "B = 32  # This is a typical value for buffer pages in memory\n",
    "\n",
    "# Let's assume sizes for R, S, and T such that HJ is favored for the smaller join (R and S), and SMJ is favored for the larger join (join1 and T).\n",
    "# We'll assume R is quite small, S is moderate, and T is large.\n",
    "P_R = 5     # Small table R\n",
    "P_S = 100   # Moderate table S\n",
    "P_T = 10000 # Large table T\n",
    "\n",
    "# Join1 is smaller than S but not too small\n",
    "P_RS = 20   # Feasible output of join1\n",
    "\n",
    "# Join2 is not the full cartesian product\n",
    "P_RST = 2000 # Feasible output of join2\n",
    "\n",
    "# Calculate costs for the lower cost scenario: HJ for join1 and SMJ for join2\n",
    "HJ_IO_Cost_join1 = P_R + P_S  # Cost for HJ is simply the sum of sizes of R and S\n",
    "\n",
    "# Calculate costs for SMJ: sort both join1 and T, then merge\n",
    "SMJ_IO_Cost_join2 = external_merge_sort_cost(B, P_RS) + external_merge_sort_cost(B, P_T) + P_RS + P_T\n",
    "\n",
    "# Total cost for the lower cost scenario\n",
    "total_cost_lower = HJ_IO_Cost_join1 + SMJ_IO_Cost_join2\n",
    "\n",
    "# Calculate costs for the higher cost scenario: SMJ for join1 and HJ for join2\n",
    "SMJ_IO_Cost_join1 = external_merge_sort_cost(B, P_R) + external_merge_sort_cost(B, P_S) + P_R + P_S\n",
    "\n",
    "# Calculate costs for HJ: hash join1 and then join with T\n",
    "HJ_IO_Cost_join2 = P_RS + P_T  # Cost for HJ is simply the sum of sizes of join1 and T\n",
    "\n",
    "# Total cost for the higher cost scenario\n",
    "total_cost_higher = SMJ_IO_Cost_join1 + HJ_IO_Cost_join2\n",
    "(P_R, P_S, P_T, P_RS, P_RST, B, total_cost_lower, total_cost_higher)"
   ]
  },
  {
   "cell_type": "markdown",
   "metadata": {},
   "source": [
    "<hr><hr>\n",
    "\n",
    "Problem 3: Hash Join [ 25 pts ]\n",
    "-----------------------------"
   ]
  },
  {
   "cell_type": "markdown",
   "metadata": {},
   "source": [
    "We want to find out which are the colleges each NFL teams prefers drafting players from.\n",
    "\n",
    "We have access to two tables: \n",
    "- a table named \"teams\" which contains (team, player) pairs, and \n",
    "- a table named \"colleges\" which contains (player, college) pairs. \n",
    "\n",
    "Being all excited about databases you decide that there is no other way but to join the two tables and get the desired results. However, you have no access to a database.\n",
    "\n",
    "And of course HASH JOIN is the way to go!!!\n"
   ]
  },
  {
   "cell_type": "markdown",
   "metadata": {},
   "source": [
    "## Load and explore the data\n",
    "\n",
    "The two tables are stored in files which can be loaded into memory as two lists of Python \"[**named tuples**](https://pymotw.com/2/collections/namedtuple.html)\" using the code below:"
   ]
  },
  {
   "cell_type": "code",
   "execution_count": 52,
   "metadata": {},
   "outputs": [],
   "source": [
    "# Load data\n",
    "import nfl\n",
    "from nfl import *\n",
    "teams, colleges = loadData()"
   ]
  },
  {
   "cell_type": "markdown",
   "metadata": {},
   "source": [
    "For example, the first team entry is"
   ]
  },
  {
   "cell_type": "code",
   "execution_count": 45,
   "metadata": {},
   "outputs": [
    {
     "data": {
      "text/plain": [
       "PlayerTeam(teamname='Houston Texans', playername='Jadeveon Clowney')"
      ]
     },
     "execution_count": 45,
     "metadata": {},
     "output_type": "execute_result"
    }
   ],
   "source": [
    "teams[0]"
   ]
  },
  {
   "cell_type": "markdown",
   "metadata": {},
   "source": [
    "And the first colleges entry is "
   ]
  },
  {
   "cell_type": "code",
   "execution_count": 46,
   "metadata": {},
   "outputs": [
    {
     "data": {
      "text/plain": [
       "PlayerCollege(playername='Jadeveon Clowney', collegename='South Carolina')"
      ]
     },
     "execution_count": 46,
     "metadata": {},
     "output_type": "execute_result"
    }
   ],
   "source": [
    "colleges[0]"
   ]
  },
  {
   "cell_type": "markdown",
   "metadata": {},
   "source": [
    "Named tuples are basically lightweight object types. Instances of named tuple instances can be dereferences (e.g. `colleges[0].playername` or the standard tuple syntax (`colleges[0][0]`)."
   ]
  },
  {
   "cell_type": "code",
   "execution_count": 47,
   "metadata": {},
   "outputs": [
    {
     "name": "stdout",
     "output_type": "stream",
     "text": [
      "Jadeveon Clowney\n",
      "Jadeveon Clowney\n"
     ]
    }
   ],
   "source": [
    "print(colleges[0].playername)\n",
    "print(colleges[0][0])"
   ]
  },
  {
   "cell_type": "markdown",
   "metadata": {},
   "source": [
    " The following code prints the first 10 tuples from teams and colleges. *Notice how fields of named tuples are accessed inside the loops.*"
   ]
  },
  {
   "cell_type": "code",
   "execution_count": 48,
   "metadata": {},
   "outputs": [
    {
     "name": "stdout",
     "output_type": "stream",
     "text": [
      "Table teams contains 12720 entries in total\n",
      "Table colleges contains 12720 entries in total\n",
      "\n",
      "First 10 entries in teams table\n",
      "Entry 1 : Houston Texans | Jadeveon Clowney\n",
      "Entry 2 : St. Louis Rams | Greg Robinson\n",
      "Entry 3 : Jacksonville Jaguars | Blake Bortles\n",
      "Entry 4 : Buffalo Bills | Sammy Watkins\n",
      "Entry 5 : Oakland Raiders | Khalil Mack\n",
      "Entry 6 : Atlanta Falcons | Jake Matthews\n",
      "Entry 7 : Tampa Bay Buccaneers | Mike Evans\n",
      "Entry 8 : Cleveland Browns | Justin Gilbert\n",
      "Entry 9 : Minnesota Vikings | Anthony Barr\n",
      "Entry 10 : Detroit Lions | Eric Ebron\n",
      "\n",
      "First 10 entries in college table\n",
      "Entry 1 : South Carolina | Jadeveon Clowney\n",
      "Entry 2 : Auburn | Greg Robinson\n",
      "Entry 3 : UCF | Blake Bortles\n",
      "Entry 4 : Clemson | Sammy Watkins\n",
      "Entry 5 : Buffalo | Khalil Mack\n",
      "Entry 6 : Texas A&M | Jake Matthews\n",
      "Entry 7 : Texas A&M | Mike Evans\n",
      "Entry 8 : Oklahoma State | Justin Gilbert\n",
      "Entry 9 : UCLA | Anthony Barr\n",
      "Entry 10 : North Carolina | Eric Ebron\n"
     ]
    }
   ],
   "source": [
    "# Print List Entries\n",
    "print('Table teams contains %d entries in total' % len(teams))\n",
    "print('Table colleges contains %d entries in total' % len(colleges))\n",
    "print()\n",
    "print('First 10 entries in teams table')\n",
    "for i in range(10):\n",
    "    team = teams[i]\n",
    "    print('Entry %d' %(i+1),':',team.teamname, '|', team.playername)\n",
    "print()\n",
    "print('First 10 entries in college table')\n",
    "for i in range(10):\n",
    "    college = colleges[i]\n",
    "    print('Entry %d' %(i+1),':',college.collegename, '|', college.playername)"
   ]
  },
  {
   "cell_type": "markdown",
   "metadata": {},
   "source": [
    "## Down to business\n",
    "\n",
    "During the lectures we saw that hash joins consist of two phases: The **Partition Phase** where using a hash function $h$ we split the two tables we want to join into $B$ buckets, and the **Matching Phase** where we iterate over each bucket and join the tuples from the two tables that match. Here you will need to implement a hash join in memory.\n",
    "\n",
    "You are determined to implement the most efficient hash join possible! This is why you decide to implement your own hash function that will uniformly partition the entries of a table across $B$ buckets so that all buckets have roughly the same number of entries. You decide to use the following hash function:"
   ]
  },
  {
   "cell_type": "code",
   "execution_count": 49,
   "metadata": {},
   "outputs": [],
   "source": [
    "# Define hash function\n",
    "def h(x,buckets):\n",
    "    rawKey = ord(x[1])\n",
    "    return rawKey % buckets"
   ]
  },
  {
   "cell_type": "markdown",
   "metadata": {},
   "source": [
    "You use this hash function to partition the tables. To do so you can use the helper method `partitionTable(table,hashfunction,buckets)` defined in `nfl.py` for convenience as shown next:"
   ]
  },
  {
   "cell_type": "code",
   "execution_count": 50,
   "metadata": {},
   "outputs": [],
   "source": [
    "# Fix the number of buckets to 500\n",
    "buckets = 500\n",
    "# Partition the teams table using hash function h\n",
    "teamsPartition = partitionTable(teams,h,buckets)"
   ]
  },
  {
   "cell_type": "markdown",
   "metadata": {},
   "source": [
    "The output of `partitionTable()` is a dictionary with its keys corresponding to bucket numbers in $[0,B-1]$ and its entries to lists of named tuples.\n",
    "\n",
    "##  Q 3.1 Assess the Hash Function Performance\n",
    "<hr>\n",
    "\n",
    "### Q 3.1.1 [ 5 pts ] \n",
    "\n",
    "It's now time to implement your own hash join! You only need to implement the merge phase of the hash join. The output of the method should correspond to the result of a join between teams and colleges over the ***playername*** attribute. The partition phase is implemented. You need to fill in the merge phase.\n",
    "\n",
    "***Note: You should only use the two dictionaries t1Partition and t1Partition provided. <br>No other data structures are allowed.***"
   ]
  },
  {
   "cell_type": "code",
   "execution_count": 61,
   "metadata": {},
   "outputs": [
    {
     "name": "stdout",
     "output_type": "stream",
     "text": [
      "12720\n",
      "('Minnesota Vikings', \"D'Aundre Reed\", 'Arizona')\n",
      "('Jacksonville Jaguars', \"D'Anthony Smith\", 'Louisiana Tech')\n",
      "('Arizona Cardinals', \"O'Brien Schofield\", 'Wisconsin')\n",
      "('Chicago Bears', \"J'Marcus Webb\", 'West Texas A&M')\n",
      "('Minnesota Vikings', \"D'Aundre Reed_1\", 'Arizona')\n",
      "('Jacksonville Jaguars', \"D'Anthony Smith_1\", 'Louisiana Tech')\n",
      "('Arizona Cardinals', \"O'Brien Schofield_1\", 'Wisconsin')\n",
      "('Chicago Bears', \"J'Marcus Webb_1\", 'West Texas A&M')\n",
      "('Minnesota Vikings', \"D'Aundre Reed_2\", 'Arizona')\n",
      "('Jacksonville Jaguars', \"D'Anthony Smith_2\", 'Louisiana Tech')\n"
     ]
    }
   ],
   "source": [
    "### BEGIN SOLUTION\n",
    "# describe your solution in comments\n",
    "def hashJoin(table1, table2, hashfunction, buckets):\n",
    "    # Partition phase (already provided)\n",
    "    t1Partition = partitionTable(table1, hashfunction, buckets)\n",
    "    t2Partition = partitionTable(table2, hashfunction, buckets)\n",
    "\n",
    "    # Merge phase\n",
    "    result = []\n",
    "\n",
    "    # Iterate over each bucket\n",
    "    for bucket in range(buckets):\n",
    "        # Get the list of entries in the current bucket for both tables\n",
    "        bucket1 = t1Partition[bucket]\n",
    "        bucket2 = t2Partition[bucket]\n",
    "        \n",
    "        # Create a hash table for quick look-up based on playername for one of the tables (let's say table2)\n",
    "        hash_table = {entry.playername: entry for entry in bucket2}\n",
    "\n",
    "        # Iterate over each entry in the bucket for table1 and look for matches in the hash table\n",
    "        for t1Entry in bucket1:\n",
    "            # If there's a match in table2's hash_table based on playername, append the combined data\n",
    "            if t1Entry.playername in hash_table:\n",
    "                t2Entry = hash_table[t1Entry.playername]\n",
    "                result.append((t1Entry.teamname, t1Entry.playername, t2Entry.collegename))\n",
    "    return result\n",
    "\n",
    "\n",
    "# Execute the hash join\n",
    "joined_data = hashJoin(teams, colleges, h, buckets)\n",
    "print(len(joined_data))\n",
    "for record in joined_data[:10]:  # This prints the first 10 joined tuples\n",
    "    print(record)\n"
   ]
  },
  {
   "cell_type": "markdown",
   "metadata": {},
   "source": [
    "<hr>\n",
    "\n",
    "### Q 3.1.2 [ 5 pts ] \n",
    "\n",
    "It time to evaluate your algorithm! The code provided below executes the join between teams and colleges and measures the total execution time. \n",
    "What is the total number of entries output by your algorithm?\n",
    "\n",
    "Does the runtime of your algorithm seem reasonable? Provide a brief explanation."
   ]
  },
  {
   "cell_type": "code",
   "execution_count": 86,
   "metadata": {},
   "outputs": [
    {
     "name": "stdout",
     "output_type": "stream",
     "text": [
      "The join took 31.08 ms and returned 12720 tuples in total\n"
     ]
    }
   ],
   "source": [
    "import time\n",
    "start_time = time.time()\n",
    "result1 = hashJoin(teams, colleges, h, buckets)\n",
    "end_time = time.time()\n",
    "duration = (end_time - start_time)*1000 #in ms\n",
    "print ('The join took %0.2f ms and returned %d tuples in total' % (duration,len(result1)))\n",
    "\n",
    "### BEGIN SOLUTION\n",
    "# Your explaination of the run-time goes here\n",
    "\n",
    "# The join returned 12720 tuples, which is the same as the number of entries in each table, \n",
    "# which suggests that there is a 1 to 1 match between the two tables on the playername attribute. \n",
    "\n",
    "# I believe that an execution time of 30 ms is pretty quick and I that runtime speed is due to the efficiencies of hash tables. \n",
    "# This is due to the hashes distributes the data evenly among the buckets, which minimizes the number of comparisons needed during the merge phase."
   ]
  },
  {
   "cell_type": "markdown",
   "metadata": {},
   "source": [
    "<hr>\n",
    "\n",
    "## Q 3.2 Is this a good partition function\n",
    "\n",
    "You decide to investigate the performance of `hashJoin( )` further. Since you implemented the merge phase of  `hashJoin( )` yourself you focus on the partitioning obtained by using the provided hash function `h( )`. \n",
    "In the lectures we saw that a good hash function should partition entries uniformly across buckets. We will now check if `h( )` is indeed a good function.\n",
    "\n",
    "The following code generates a histogram of the bucket sizes for table teams (using the above hash function `h` and 500 buckets) to help figure out what is going wrong. "
   ]
  },
  {
   "cell_type": "code",
   "execution_count": 63,
   "metadata": {},
   "outputs": [
    {
     "data": {
      "text/plain": [
       "[]"
      ]
     },
     "execution_count": 63,
     "metadata": {},
     "output_type": "execute_result"
    },
    {
     "data": {
      "image/png": "[encoded data removed]",
      "text/plain": [
       "<Figure size 640x480 with 1 Axes>"
      ]
     },
     "metadata": {},
     "output_type": "display_data"
    }
   ],
   "source": [
    "# Examine if this is a good partition function\n",
    "def histogramPoints(partition):\n",
    "    ids = range(buckets)\n",
    "    items = []\n",
    "    for i in range(buckets):\n",
    "        if i in partition:\n",
    "            items.append(len(partition[i]))\n",
    "        else:\n",
    "            items.append(0)\n",
    "    return ids, items\n",
    "\n",
    "%matplotlib inline\n",
    "import matplotlib.pyplot as plt\n",
    "\n",
    "# Plot bucket histogram\n",
    "buckets = 500\n",
    "teamsPartition = partitionTable(teams,h,buckets)\n",
    "ids, counts = histogramPoints(teamsPartition)\n",
    "plt.plot(ids, counts)\n",
    "plt.plot()"
   ]
  },
  {
   "cell_type": "markdown",
   "metadata": {},
   "source": [
    "## Explanation\n",
    "Ideally, the histogram should show a uniform distribution, indicating that each bucket has a similar number of entries. However, this is not the case with this histogram utilzing 'h' as the hash function. Instead of having a uniform distribution, large spikes are quite evidently shown which is not optimal for performance. This could potentially be caused by the hash function may have too many collisions, which occurs when different keys hash to the same bucket. "
   ]
  },
  {
   "cell_type": "markdown",
   "metadata": {},
   "source": [
    "<hr>\n",
    "\n",
    "#### Q 3.2.1 [ 5 pts ] \n",
    "Now find the skew associated with the above histogram. Skew is defined as the standard deviation of the number of entries in the buckets. A uniform hash function produces buckets of equal size, leading to 0 skew, but our candidate hash function h is imperfect so you should observe a positive skew."
   ]
  },
  {
   "cell_type": "code",
   "execution_count": 64,
   "metadata": {},
   "outputs": [
    {
     "data": {
      "text/plain": [
       "204.83263021305766"
      ]
     },
     "execution_count": 64,
     "metadata": {},
     "output_type": "execute_result"
    }
   ],
   "source": [
    "### BEGIN SOLUTION\n",
    "# describe your solution in the comments\n",
    "\n",
    "def calculateSkew(partition):\n",
    "    # Calculate the mean size of the buckets\n",
    "    bucket_sizes = [len(bucket) for bucket in partition.values()]\n",
    "    mean_size = sum(bucket_sizes) / len(bucket_sizes)\n",
    "    \n",
    "    # Calculate the variance\n",
    "    variance = sum((size - mean_size) ** 2 for size in bucket_sizes) / len(bucket_sizes)\n",
    "    \n",
    "    # Standard deviation (skew) is the square root of the variance\n",
    "    skew = math.sqrt(variance)\n",
    "    \n",
    "    return skew\n",
    "\n",
    "# Assuming teamsPartition is already defined and populated\n",
    "skew = calculateSkew(teamsPartition)\n",
    "skew"
   ]
  },
  {
   "cell_type": "markdown",
   "metadata": {},
   "source": [
    "<hr>\n",
    "\n",
    "#### Q 3.2.2 [ 5 pts ]\n",
    "\n",
    "Use python's hash function to see if you can produce a better (aka smaller) runtime for hash join. As at the beginning of 3.2, make a histogram of the bucket sizes (this time using the new hash function and 500 buckets). You can plot your histogram using the same code provided above."
   ]
  },
  {
   "cell_type": "code",
   "execution_count": 91,
   "metadata": {},
   "outputs": [
    {
     "data": {
      "image/png": "[encoded data removed]",
      "text/plain": [
       "<Figure size 640x480 with 1 Axes>"
      ]
     },
     "metadata": {},
     "output_type": "display_data"
    }
   ],
   "source": [
    "### BEGIN SOLUTION\n",
    "# describe your solution in the comments\n",
    "\n",
    "def hBetter(playername, buckets):\n",
    "    # Use Python's built-in hash function and ensure a positive result with the modulo operation\n",
    "    rawKey = hash(playername)\n",
    "    return abs(rawKey) % buckets\n",
    "\n",
    "# Assuming the partitionTable function is available\n",
    "# Partition the teams table using the better hash function\n",
    "buckets = 500\n",
    "teamsPartitionBetter = partitionTable(teams, hBetter, buckets)\n",
    "\n",
    "# Generate histogram points for the better hash function\n",
    "ids, counts = histogramPoints(teamsPartitionBetter)\n",
    "\n",
    "# Plot the histogram\n",
    "plt.bar(ids, counts)\n",
    "plt.xlabel('Bucket ID')\n",
    "plt.ylabel('Count')\n",
    "plt.title('Histogram of Bucket Sizes for Teams Table with Better Hash Function')\n",
    "plt.show()"
   ]
  },
  {
   "cell_type": "markdown",
   "metadata": {},
   "source": [
    "<hr>\n",
    "\n",
    "#### Q 3.2.3 [ 5 pts ]\n",
    "\n",
    "Rerun your hash join algorithm with the new hash function you designed and 500 buckets.     \n",
    "Does the algorithm run faster? \n",
    "   * If not, try again to find a **better** hash function\n",
    "   * If it is faster, <br>What is the speed-up you are observing? <br>What is the reason for the speed up?\n",
    "   \n"
   ]
  },
  {
   "cell_type": "code",
   "execution_count": 94,
   "metadata": {
    "tags": []
   },
   "outputs": [
    {
     "name": "stdout",
     "output_type": "stream",
     "text": [
      "The join took 25.52 ms and returned 12720 tuples in total\n"
     ]
    }
   ],
   "source": [
    "### BEGIN SOLUTION\n",
    "# describe your solution in comments\n",
    "# Start the timer\n",
    "start_time = time.time()\n",
    "\n",
    "# Call the hashJoin function with the new hash function\n",
    "result2 = hashJoin(teams, colleges, hBetter, buckets)\n",
    "\n",
    "# End the timer\n",
    "end_time = time.time()\n",
    "\n",
    "# Calculate the duration\n",
    "duration = (end_time - start_time) * 1000  # in milliseconds\n",
    "\n",
    "# Print the results\n",
    "print('The join took %0.2f ms and returned %d tuples in total' % (duration, len(result2)))\n",
    "\n",
    "# Describe the speed-up\n",
    "# Honestly the time was about the same. I'm unsure where my code is less efficient than it needs to be. \n",
    "\n",
    "# Compare the `duration` with the previous execution time and describe the difference.\n",
    "# The reason for the speed up is due to a more uniform distribution of the tuples\n",
    "# across the buckets, which leads to a more efficient merge phase in the hash join.\n"
   ]
  },
  {
   "cell_type": "code",
   "execution_count": null,
   "metadata": {},
   "outputs": [],
   "source": []
  }
 ],
 "metadata": {
  "anaconda-cloud": {},
  "kernelspec": {
   "display_name": "Python 3 (ipykernel)",
   "language": "python",
   "name": "python3"
  },
  "language_info": {
   "codemirror_mode": {
    "name": "ipython",
    "version": 3
   },
   "file_extension": ".py",
   "mimetype": "text/x-python",
   "name": "python",
   "nbconvert_exporter": "python",
   "pygments_lexer": "ipython3",
   "version": "3.10.8"
  }
 },
 "nbformat": 4,
 "nbformat_minor": 4
}
