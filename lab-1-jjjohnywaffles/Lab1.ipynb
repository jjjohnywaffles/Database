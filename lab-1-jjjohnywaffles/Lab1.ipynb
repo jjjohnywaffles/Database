{
 "cells": [
  {
   "cell_type": "markdown",
   "metadata": {
    "tags": []
   },
   "source": [
    "#  CSCI 3287  -- Lab #1\n",
    "<figure width=100%>\n",
    "  <IMG SRC=\"https://www.colorado.edu/cs/profiles/express/themes/cuspirit/logo.png\" WIDTH=50 ALIGN=\"right\">\n",
    "</figure>\n",
    "    \n",
    "## Getting Started With SQL\n",
    "<hr>"
   ]
  },
  {
   "cell_type": "markdown",
   "metadata": {
    "tags": []
   },
   "source": [
    "## Modify this cell to display your information:\n",
    "\n",
    "Name:  Jonathan Hu\n",
    "\n",
    "Email: johu5262@colorado.edu\n",
    "\n",
    "GitHub ID: jjjohnywaffles\n",
    "\n",
    "No. Lab Hours: 14 hrs\n"
   ]
  },
  {
   "cell_type": "markdown",
   "metadata": {
    "jp-MarkdownHeadingCollapsed": true,
    "tags": []
   },
   "source": [
    "<hr>\n",
    "\n",
    "## Instructions / Notes:\n",
    "\n",
    "#### **_Read these carefully_**\n",
    "\n",
    "* You **may** create new Jupyter notebook cells to use for e.g. testing, debugging, exploring, etc.- this is encouraged in fact! \n",
    "\n",
    "* However, you you must clearly mark the solution to each sub-problem by having your solution in the cell immediately after the cells marked ```### PLACE YOUR SOLUTION in the next cell``` a cell immediately following your solution marked ```### SOLUTION in is the previous cell``` . Place any testing cells after the ending cell.\n",
    "\n",
    "* The expected results and correct output format of the queries are current displayed in the notebook. The results are printed in nice tables with headers. When you run your queries, for the questions the current correct results will be replace with your results which should look like the initial results.\n",
    "\n",
    "<hr>\n",
    "\n",
    "#### Submission Instructions:\n",
    " 1. Commit your changes to your local repository.\n",
    " 2. Push your changes to the remote repository in Git Classroom.\n",
    " 3. Print your notebook as a PDF document to have a completed version. \n",
    "    * To create a PDF from your notebook:  select `File` -> `Save and Export Notebook As..` -> `PDF`,\n",
    "\n",
    "If you run into problems with a query taking a very very long time, first try `Kernel` -> `Restart All and Run All Cells..` and then ask on Piazza\n",
    "\n",
    "###  _Have fun!_\n",
    "<hr>"
   ]
  },
  {
   "cell_type": "markdown",
   "metadata": {},
   "source": [
    "<hr>\n",
    "\n",
    "#### Set up a connection to a SQLite database\n",
    "Make sure you have decompressed the database file before running the next cell.  The next cell will create an empty database if the file *flights.db* is not in the current directory.\n",
    "\n",
    "#### The next cell will setup the SQL tools for JupyterHub Notebooks.\n",
    "* Remember:\n",
    "    * `%sql [SQL]` is for _single line_ SQL queries\n",
    "    * `%%sql \n",
    "    [SQL]` is for _multi line_ SQL queries\n"
   ]
  },
  {
   "cell_type": "code",
   "execution_count": 1,
   "metadata": {},
   "outputs": [],
   "source": [
    "%reload_ext sql\n",
    "%sql sqlite:///flights.db"
   ]
  },
  {
   "cell_type": "markdown",
   "metadata": {},
   "source": [
    "<hr>"
   ]
  },
  {
   "cell_type": "markdown",
   "metadata": {},
   "source": [
    "## Introduction: Travel Delays\n",
    "<hr>\n",
    "\n",
    "There's nothing I dislike more than travel delays -- how about you?\n",
    "\n",
    "In fact, I'm always scheming new ways to avoid travel delays, and I just found an amazing dataset that will help me understand some of the causes and trade-offs when traveling. I wonder if you can use SQL to help me!"
   ]
  },
  {
   "cell_type": "markdown",
   "metadata": {},
   "source": [
    "Not surprisingly... you can! In this homework, we'll use SQL to explore airline travel delays that occurred in July 2007. To start, let's look at the primary relation in the database we've prepared for you:"
   ]
  },
  {
   "cell_type": "code",
   "execution_count": 2,
   "metadata": {},
   "outputs": [
    {
     "data": {
      "text/html": [
       "<span style=\"None\">Running query in &#x27;sqlite:///flights.db&#x27;</span>"
      ],
      "text/plain": [
       "Running query in 'sqlite:///flights.db'"
      ]
     },
     "metadata": {},
     "output_type": "display_data"
    },
    {
     "data": {
      "text/html": [
       "<table>\n",
       "    <thead>\n",
       "        <tr>\n",
       "            <th>Year</th>\n",
       "            <th>Month</th>\n",
       "            <th>DayofMonth</th>\n",
       "            <th>DayOfWeek</th>\n",
       "            <th>DepTime</th>\n",
       "            <th>CRSDepTime</th>\n",
       "            <th>ArrTime</th>\n",
       "            <th>CRSArrTime</th>\n",
       "            <th>UniqueCarrier</th>\n",
       "            <th>FlightNum</th>\n",
       "            <th>TailNum</th>\n",
       "            <th>ActualElapsedTime</th>\n",
       "            <th>CRSElapsedTime</th>\n",
       "            <th>AirTime</th>\n",
       "            <th>ArrDelay</th>\n",
       "            <th>DepDelay</th>\n",
       "            <th>Origin</th>\n",
       "            <th>Dest</th>\n",
       "            <th>Distance</th>\n",
       "            <th>TaxiIn</th>\n",
       "            <th>TaxiOut</th>\n",
       "            <th>Cancelled</th>\n",
       "            <th>CancellationCode</th>\n",
       "            <th>Diverted</th>\n",
       "            <th>CarrierDelay</th>\n",
       "            <th>WeatherDelay</th>\n",
       "            <th>NASDelay</th>\n",
       "            <th>SecurityDelay</th>\n",
       "            <th>LateAircraftDelay</th>\n",
       "        </tr>\n",
       "    </thead>\n",
       "    <tbody>\n",
       "        <tr>\n",
       "            <td>2007</td>\n",
       "            <td>7</td>\n",
       "            <td>1</td>\n",
       "            <td>7</td>\n",
       "            <td>2052</td>\n",
       "            <td>2050</td>\n",
       "            <td>2153</td>\n",
       "            <td>2155</td>\n",
       "            <td>WN</td>\n",
       "            <td>575</td>\n",
       "            <td>N304SW</td>\n",
       "            <td>61</td>\n",
       "            <td>65</td>\n",
       "            <td>50</td>\n",
       "            <td>-2</td>\n",
       "            <td>2</td>\n",
       "            <td>ONT</td>\n",
       "            <td>SJC</td>\n",
       "            <td>333</td>\n",
       "            <td>5</td>\n",
       "            <td>6</td>\n",
       "            <td>0</td>\n",
       "            <td></td>\n",
       "            <td>0</td>\n",
       "            <td>0</td>\n",
       "            <td>0</td>\n",
       "            <td>0</td>\n",
       "            <td>0</td>\n",
       "            <td>0</td>\n",
       "        </tr>\n",
       "    </tbody>\n",
       "</table>\n",
       "<span style='font-style:italic;font-size:11px'><code>ResultSet</code> : to convert to pandas, call <a href='https://jupysql.ploomber.io/en/latest/integrations/pandas.html'><code>.DataFrame()</code></a> or to polars, call <a href='https://jupysql.ploomber.io/en/latest/integrations/polars.html'><code>.PolarsDataFrame()</code></a></span><br>"
      ],
      "text/plain": [
       "+------+-------+------------+-----------+---------+------------+---------+------------+---------------+-----------+---------+-------------------+----------------+---------+----------+----------+--------+------+----------+--------+---------+-----------+------------------+----------+--------------+--------------+----------+---------------+-------------------+\n",
       "| Year | Month | DayofMonth | DayOfWeek | DepTime | CRSDepTime | ArrTime | CRSArrTime | UniqueCarrier | FlightNum | TailNum | ActualElapsedTime | CRSElapsedTime | AirTime | ArrDelay | DepDelay | Origin | Dest | Distance | TaxiIn | TaxiOut | Cancelled | CancellationCode | Diverted | CarrierDelay | WeatherDelay | NASDelay | SecurityDelay | LateAircraftDelay |\n",
       "+------+-------+------------+-----------+---------+------------+---------+------------+---------------+-----------+---------+-------------------+----------------+---------+----------+----------+--------+------+----------+--------+---------+-----------+------------------+----------+--------------+--------------+----------+---------------+-------------------+\n",
       "| 2007 |   7   |     1      |     7     |   2052  |    2050    |   2153  |    2155    |       WN      |    575    |  N304SW |         61        |       65       |    50   |    -2    |    2     |  ONT   | SJC  |   333    |   5    |    6    |     0     |                  |    0     |      0       |      0       |    0     |       0       |         0         |\n",
       "+------+-------+------------+-----------+---------+------------+---------+------------+---------------+-----------+---------+-------------------+----------------+---------+----------+----------+--------+------+----------+--------+---------+-----------+------------------+----------+--------------+--------------+----------+---------------+-------------------+"
      ]
     },
     "execution_count": 2,
     "metadata": {},
     "output_type": "execute_result"
    }
   ],
   "source": [
    "%%sql\n",
    "SELECT * \n",
    "FROM ontime \n",
    "LIMIT 1;"
   ]
  },
  {
   "cell_type": "markdown",
   "metadata": {},
   "source": [
    "Cool, there are so many columns! How many rows are there?"
   ]
  },
  {
   "cell_type": "code",
   "execution_count": 3,
   "metadata": {},
   "outputs": [
    {
     "data": {
      "text/html": [
       "<span style=\"None\">Running query in &#x27;sqlite:///flights.db&#x27;</span>"
      ],
      "text/plain": [
       "Running query in 'sqlite:///flights.db'"
      ]
     },
     "metadata": {},
     "output_type": "display_data"
    },
    {
     "data": {
      "text/html": [
       "<table>\n",
       "    <thead>\n",
       "        <tr>\n",
       "            <th>num_rows</th>\n",
       "        </tr>\n",
       "    </thead>\n",
       "    <tbody>\n",
       "        <tr>\n",
       "            <td>648560</td>\n",
       "        </tr>\n",
       "    </tbody>\n",
       "</table>\n",
       "<span style='font-style:italic;font-size:11px'><code>ResultSet</code> : to convert to pandas, call <a href='https://jupysql.ploomber.io/en/latest/integrations/pandas.html'><code>.DataFrame()</code></a> or to polars, call <a href='https://jupysql.ploomber.io/en/latest/integrations/polars.html'><code>.PolarsDataFrame()</code></a></span><br>"
      ],
      "text/plain": [
       "+----------+\n",
       "| num_rows |\n",
       "+----------+\n",
       "|  648560  |\n",
       "+----------+"
      ]
     },
     "execution_count": 3,
     "metadata": {},
     "output_type": "execute_result"
    }
   ],
   "source": [
    "%%sql\n",
    "SELECT COUNT(*) AS num_rows\n",
    "FROM ontime;"
   ]
  },
  {
   "cell_type": "markdown",
   "metadata": {},
   "source": [
    "Wow, that's a lot of data! Good thing you don't have to answer all of my questions by hand...\n",
    "\n",
    "You don't need to import more data into the database. However, you can find a description of each field online at [https://www.transtats.bts.gov/DL_SelectFields.asp?Table_ID=236](https://www.transtats.bts.gov/DL_SelectFields.asp?Table_ID=236). We actually downloaded the data from http://stat-computing.org/dataexpo/2009/supplemental-data.html and focused on just July 2007 to reduce the data size. \n",
    "\n",
    "We've pre-loaded a number of additional tables that will help you decode important fields like\n",
    "* `ontime` - the ontime flight data described at http://stat-computing.org/dataexpo/2009/sqlite.html\n",
    "* `carriers` - airlines described at http://stat-computing.org/dataexpo/2009/supplemental-data.html\n",
    "* `airports` - airports described at http://stat-computing.org/dataexpo/2009/supplemental-data.html\n",
    "* `planes` - individual plane information described at http://stat-computing.org/dataexpo/2009/supplemental-data.html\n",
    "* `weekdays` - hand-made database of weekdays with Sunday as day #1\n",
    "\n",
    "Please use the following cell to explore these the `carriers`, `airports`, `planes` and `weekdays` tables.  Try a few different select statements to see what each table contains."
   ]
  },
  {
   "cell_type": "code",
   "execution_count": 4,
   "metadata": {},
   "outputs": [
    {
     "data": {
      "text/html": [
       "<span style=\"None\">Running query in &#x27;sqlite:///flights.db&#x27;</span>"
      ],
      "text/plain": [
       "Running query in 'sqlite:///flights.db'"
      ]
     },
     "metadata": {},
     "output_type": "display_data"
    },
    {
     "data": {
      "text/html": [
       "<table>\n",
       "    <thead>\n",
       "        <tr>\n",
       "            <th>code</th>\n",
       "            <th>carrier</th>\n",
       "        </tr>\n",
       "    </thead>\n",
       "    <tbody>\n",
       "        <tr>\n",
       "            <td>02Q</td>\n",
       "            <td>Titan Airways</td>\n",
       "        </tr>\n",
       "        <tr>\n",
       "            <td>04Q</td>\n",
       "            <td>Tradewind Aviation</td>\n",
       "        </tr>\n",
       "    </tbody>\n",
       "</table>\n",
       "<span style='font-style:italic;font-size:11px'><code>ResultSet</code> : to convert to pandas, call <a href='https://jupysql.ploomber.io/en/latest/integrations/pandas.html'><code>.DataFrame()</code></a> or to polars, call <a href='https://jupysql.ploomber.io/en/latest/integrations/polars.html'><code>.PolarsDataFrame()</code></a></span><br>"
      ],
      "text/plain": [
       "+------+--------------------+\n",
       "| code |      carrier       |\n",
       "+------+--------------------+\n",
       "| 02Q  |   Titan Airways    |\n",
       "| 04Q  | Tradewind Aviation |\n",
       "+------+--------------------+"
      ]
     },
     "execution_count": 4,
     "metadata": {},
     "output_type": "execute_result"
    }
   ],
   "source": [
    "%%sql\n",
    "select * from carriers limit 2;"
   ]
  },
  {
   "cell_type": "markdown",
   "metadata": {},
   "source": [
    "<hr>\n",
    "\n",
    "### Your turn to write some queries\n",
    "<hr>"
   ]
  },
  {
   "cell_type": "markdown",
   "metadata": {},
   "source": [
    "Query 1: How long are flights delayed on average? (10 points)\n",
    "------------------------\n",
    "Just to get a sense of the data, let's start with a simple query.\n",
    "\n",
    "In the cell below, write a SQL query that returns the average arrival delay for the entire month of July 2007 (i.e., the whole dataset)."
   ]
  },
  {
   "cell_type": "code",
   "execution_count": 5,
   "metadata": {},
   "outputs": [],
   "source": [
    "### PLACE YOUR SOLUTION in the next cell\n",
    "### vvvvvvvvvvvvvvvvvvvvvvvvvvvvvvvvvvvvvv"
   ]
  },
  {
   "cell_type": "code",
   "execution_count": 6,
   "metadata": {},
   "outputs": [
    {
     "data": {
      "text/html": [
       "<span style=\"None\">Running query in &#x27;sqlite:///flights.db&#x27;</span>"
      ],
      "text/plain": [
       "Running query in 'sqlite:///flights.db'"
      ]
     },
     "metadata": {},
     "output_type": "display_data"
    },
    {
     "data": {
      "text/html": [
       "<table>\n",
       "    <thead>\n",
       "        <tr>\n",
       "            <th>average_arrival_delay</th>\n",
       "        </tr>\n",
       "    </thead>\n",
       "    <tbody>\n",
       "        <tr>\n",
       "            <td>14.107679837700504</td>\n",
       "        </tr>\n",
       "    </tbody>\n",
       "</table>\n",
       "<span style='font-style:italic;font-size:11px'><code>ResultSet</code> : to convert to pandas, call <a href='https://jupysql.ploomber.io/en/latest/integrations/pandas.html'><code>.DataFrame()</code></a> or to polars, call <a href='https://jupysql.ploomber.io/en/latest/integrations/polars.html'><code>.PolarsDataFrame()</code></a></span><br>"
      ],
      "text/plain": [
       "+-----------------------+\n",
       "| average_arrival_delay |\n",
       "+-----------------------+\n",
       "|   14.107679837700504  |\n",
       "+-----------------------+"
      ]
     },
     "execution_count": 6,
     "metadata": {},
     "output_type": "execute_result"
    }
   ],
   "source": [
    "%%sql\n",
    "SELECT AVG(ArrDelay) AS average_arrival_delay\n",
    "FROM ontime;"
   ]
  },
  {
   "cell_type": "code",
   "execution_count": 7,
   "metadata": {},
   "outputs": [],
   "source": [
    "### ^^^^^^^^^^^^^^^^^^^^^^^^^^^^^^^^^^^\n",
    "### SOLUTION in is the previous cell\n"
   ]
  },
  {
   "cell_type": "markdown",
   "metadata": {},
   "source": [
    "Query 2: What was the worst flight delay? (10 points)\n",
    "------------------------\n",
    "Hmm, the average doesn't look too bad! What about the _worst_ delay?\n",
    "\n",
    "In the cell below, write a SQL query that returns the maximum arrival delay for the entire month of July 2007 (i.e., the whole dataset)."
   ]
  },
  {
   "cell_type": "code",
   "execution_count": 8,
   "metadata": {},
   "outputs": [],
   "source": [
    "### PLACE YOUR SOLUTION in the next cell\n",
    "### vvvvvvvvvvvvvvvvvvvvvvvvvvvvvvvvvvvvvv"
   ]
  },
  {
   "cell_type": "code",
   "execution_count": 9,
   "metadata": {},
   "outputs": [
    {
     "data": {
      "text/html": [
       "<span style=\"None\">Running query in &#x27;sqlite:///flights.db&#x27;</span>"
      ],
      "text/plain": [
       "Running query in 'sqlite:///flights.db'"
      ]
     },
     "metadata": {},
     "output_type": "display_data"
    },
    {
     "data": {
      "text/html": [
       "<table>\n",
       "    <thead>\n",
       "        <tr>\n",
       "            <th>max_arrival_delay</th>\n",
       "        </tr>\n",
       "    </thead>\n",
       "    <tbody>\n",
       "        <tr>\n",
       "            <td>1386</td>\n",
       "        </tr>\n",
       "    </tbody>\n",
       "</table>\n",
       "<span style='font-style:italic;font-size:11px'><code>ResultSet</code> : to convert to pandas, call <a href='https://jupysql.ploomber.io/en/latest/integrations/pandas.html'><code>.DataFrame()</code></a> or to polars, call <a href='https://jupysql.ploomber.io/en/latest/integrations/polars.html'><code>.PolarsDataFrame()</code></a></span><br>"
      ],
      "text/plain": [
       "+-------------------+\n",
       "| max_arrival_delay |\n",
       "+-------------------+\n",
       "|        1386       |\n",
       "+-------------------+"
      ]
     },
     "execution_count": 9,
     "metadata": {},
     "output_type": "execute_result"
    }
   ],
   "source": [
    "%%sql\n",
    "SELECT MAX(ArrDelay) AS max_arrival_delay\n",
    "FROM ontime"
   ]
  },
  {
   "cell_type": "code",
   "execution_count": 10,
   "metadata": {},
   "outputs": [],
   "source": [
    "### ^^^^^^^^^^^^^^^^^^^^^^^^^^^^^^^^^^^\n",
    "### SOLUTION in is the previous cell\n"
   ]
  },
  {
   "cell_type": "markdown",
   "metadata": {},
   "source": [
    "Query 3: What flight am I happiest I didn't take? (10 points)\n",
    "------------------------\n",
    "Yikes! What flight was so late?\n",
    "\n",
    "In the cell below, write a SQL query that returns the airline code (i.e., `UniqueCarrier`), origin city name, destination city name, flight number, and arrival delay for the flight(s) with the maximum arrival delay for the entire month of July 2007. Do not hard-code the arrival delay you found above. Hint: use a subquery.\n",
    "\n",
    "Your query should have the following columns (using \"...as..\" to change attribute labels into table labels)\n",
    "\n",
    "|Airline Code | Origin | Destination|Flight Number|Arrival Delay|\n",
    "|-------------|--------|------------|-------------|-------------|\n",
    "| value... | value | value | value | value |\n",
    "| ZZ | New York | Atlanta | 1942 | 480 |\n",
    "\n",
    "If future problems, we would describe this as a query returning (`Airline Code`, `Origin City Name`, `Destination City Name`, `Flight Number`, `Arrival Delay`)."
   ]
  },
  {
   "cell_type": "code",
   "execution_count": 11,
   "metadata": {},
   "outputs": [],
   "source": [
    "### PLACE YOUR SOLUTION in the next cell\n",
    "### vvvvvvvvvvvvvvvvvvvvvvvvvvvvvvvvvvvvvv"
   ]
  },
  {
   "cell_type": "code",
   "execution_count": 12,
   "metadata": {},
   "outputs": [
    {
     "data": {
      "text/html": [
       "<span style=\"None\">Running query in &#x27;sqlite:///flights.db&#x27;</span>"
      ],
      "text/plain": [
       "Running query in 'sqlite:///flights.db'"
      ]
     },
     "metadata": {},
     "output_type": "display_data"
    },
    {
     "data": {
      "text/html": [
       "<table>\n",
       "    <thead>\n",
       "        <tr>\n",
       "            <th>Airline Code</th>\n",
       "            <th>Origin</th>\n",
       "            <th>Destination</th>\n",
       "            <th>Flight Number</th>\n",
       "            <th>Arrival Delay</th>\n",
       "        </tr>\n",
       "    </thead>\n",
       "    <tbody>\n",
       "        <tr>\n",
       "            <td>AA</td>\n",
       "            <td>Las Vegas</td>\n",
       "            <td>Dallas-Fort Worth</td>\n",
       "            <td>1004</td>\n",
       "            <td>1386</td>\n",
       "        </tr>\n",
       "    </tbody>\n",
       "</table>\n",
       "<span style='font-style:italic;font-size:11px'><code>ResultSet</code> : to convert to pandas, call <a href='https://jupysql.ploomber.io/en/latest/integrations/pandas.html'><code>.DataFrame()</code></a> or to polars, call <a href='https://jupysql.ploomber.io/en/latest/integrations/polars.html'><code>.PolarsDataFrame()</code></a></span><br>"
      ],
      "text/plain": [
       "+--------------+-----------+-------------------+---------------+---------------+\n",
       "| Airline Code |   Origin  |    Destination    | Flight Number | Arrival Delay |\n",
       "+--------------+-----------+-------------------+---------------+---------------+\n",
       "|      AA      | Las Vegas | Dallas-Fort Worth |      1004     |      1386     |\n",
       "+--------------+-----------+-------------------+---------------+---------------+"
      ]
     },
     "execution_count": 12,
     "metadata": {},
     "output_type": "execute_result"
    }
   ],
   "source": [
    "%%sql\n",
    "SELECT UniqueCarrier AS \"Airline Code\",\n",
    "       (SELECT city FROM airports WHERE iata = o.Origin) AS \"Origin\",\n",
    "       (SELECT city FROM airports WHERE iata = o.Dest) AS \"Destination\",\n",
    "       FlightNum AS \"Flight Number\",\n",
    "       ArrDelay AS \"Arrival Delay\"\n",
    "FROM ontime o\n",
    "WHERE ArrDelay = (SELECT MAX(ArrDelay) FROM ontime);"
   ]
  },
  {
   "cell_type": "code",
   "execution_count": 13,
   "metadata": {},
   "outputs": [],
   "source": [
    "### ^^^^^^^^^^^^^^^^^^^^^^^^^^^^^^^^^^^\n",
    "### SOLUTION in is the previous cell\n"
   ]
  },
  {
   "cell_type": "markdown",
   "metadata": {},
   "source": [
    "Query 4: Which are the worst days to travel? (10 points)\n",
    "------------------------\n",
    "Since class just started, I don't have time to head to travel anytime soon. However, I'm headed out of town for a trip next week! What day is worst for booking my flight?\n",
    "\n",
    "In the cell below, write a SQL query that returns the average arrival delay time for each day of the week, in descending order. \n",
    "\n",
    "The schema of your relation should be of the form (`Day of Week`, `Average Delay`).\n",
    "\n",
    "**Note: do _not_ report the weekday ID.** (Hint: look at the `weekdays` table and perform a join to obtain the weekday name.)"
   ]
  },
  {
   "cell_type": "code",
   "execution_count": 14,
   "metadata": {},
   "outputs": [],
   "source": [
    "### PLACE YOUR SOLUTION in the next cell\n",
    "### vvvvvvvvvvvvvvvvvvvvvvvvvvvvvvvvvvvvvv"
   ]
  },
  {
   "cell_type": "code",
   "execution_count": 15,
   "metadata": {},
   "outputs": [
    {
     "data": {
      "text/html": [
       "<span style=\"None\">Running query in &#x27;sqlite:///flights.db&#x27;</span>"
      ],
      "text/plain": [
       "Running query in 'sqlite:///flights.db'"
      ]
     },
     "metadata": {},
     "output_type": "display_data"
    },
    {
     "data": {
      "text/html": [
       "<table>\n",
       "    <thead>\n",
       "        <tr>\n",
       "            <th>Day of Week</th>\n",
       "            <th>Average Delay</th>\n",
       "        </tr>\n",
       "    </thead>\n",
       "    <tbody>\n",
       "        <tr>\n",
       "            <td>Wednesday</td>\n",
       "            <td>18.104848250718305</td>\n",
       "        </tr>\n",
       "        <tr>\n",
       "            <td>Saturday</td>\n",
       "            <td>17.03286664090445</td>\n",
       "        </tr>\n",
       "        <tr>\n",
       "            <td>Sunday</td>\n",
       "            <td>15.889976224441275</td>\n",
       "        </tr>\n",
       "        <tr>\n",
       "            <td>Thursday</td>\n",
       "            <td>13.359122962962964</td>\n",
       "        </tr>\n",
       "        <tr>\n",
       "            <td>Monday</td>\n",
       "            <td>12.97324491855269</td>\n",
       "        </tr>\n",
       "        <tr>\n",
       "            <td>Tuesday</td>\n",
       "            <td>12.716138992293423</td>\n",
       "        </tr>\n",
       "        <tr>\n",
       "            <td>Friday</td>\n",
       "            <td>7.1869733939345615</td>\n",
       "        </tr>\n",
       "    </tbody>\n",
       "</table>\n",
       "<span style='font-style:italic;font-size:11px'><code>ResultSet</code> : to convert to pandas, call <a href='https://jupysql.ploomber.io/en/latest/integrations/pandas.html'><code>.DataFrame()</code></a> or to polars, call <a href='https://jupysql.ploomber.io/en/latest/integrations/polars.html'><code>.PolarsDataFrame()</code></a></span><br>"
      ],
      "text/plain": [
       "+-------------+--------------------+\n",
       "| Day of Week |   Average Delay    |\n",
       "+-------------+--------------------+\n",
       "|  Wednesday  | 18.104848250718305 |\n",
       "|   Saturday  | 17.03286664090445  |\n",
       "|    Sunday   | 15.889976224441275 |\n",
       "|   Thursday  | 13.359122962962964 |\n",
       "|    Monday   | 12.97324491855269  |\n",
       "|   Tuesday   | 12.716138992293423 |\n",
       "|    Friday   | 7.1869733939345615 |\n",
       "+-------------+--------------------+"
      ]
     },
     "execution_count": 15,
     "metadata": {},
     "output_type": "execute_result"
    }
   ],
   "source": [
    "%%sql\n",
    "SELECT weekdays.Name AS \"Day of Week\",\n",
    "       AVG(ontime.ArrDelay) AS \"Average Delay\"\n",
    "       \n",
    "FROM ontime\n",
    "JOIN weekdays ON ontime.DayOfWeek = weekdays.DayOfWeek\n",
    "\n",
    "GROUP BY weekdays.Name\n",
    "ORDER BY \"Average Delay\" DESC;"
   ]
  },
  {
   "cell_type": "code",
   "execution_count": 16,
   "metadata": {},
   "outputs": [],
   "source": [
    "### ^^^^^^^^^^^^^^^^^^^^^^^^^^^^^^^^^^^\n",
    "### SOLUTION in is the previous cell\n"
   ]
  },
  {
   "cell_type": "markdown",
   "metadata": {},
   "source": [
    "Query 5: Which airlines that fly out of DEN are delayed least?\n",
    "------------------------\n",
    "Now that I know which days to avoid, I'm curious which airline I should fly out of DEN. Since I haven't been told where I'm flying, please just compute the average for the airlines that fly from DEN.\n",
    "\n",
    "In the cell below, write a SQL query that returns the average arrival delay time (across _all_ flights) for each carrier that flew out of DEN at least once in July 2007 (i.e., in the current dataset), in descending order.\n",
    "\n",
    "The schema of your relation should be of the form (`Airline Name`, `Average Delay`).\n",
    "\n",
    "\n",
    "**Note: do _not_ report the airline ID (UniqueCarrier).** (Hint: a subquery is helpful here; also, look at the `carriers` table and perform a join.)"
   ]
  },
  {
   "cell_type": "code",
   "execution_count": 17,
   "metadata": {},
   "outputs": [],
   "source": [
    "### PLACE YOUR SOLUTION in the next cell\n",
    "### vvvvvvvvvvvvvvvvvvvvvvvvvvvvvvvvvvvvvv"
   ]
  },
  {
   "cell_type": "code",
   "execution_count": 18,
   "metadata": {},
   "outputs": [
    {
     "data": {
      "text/html": [
       "<span style=\"None\">Running query in &#x27;sqlite:///flights.db&#x27;</span>"
      ],
      "text/plain": [
       "Running query in 'sqlite:///flights.db'"
      ]
     },
     "metadata": {},
     "output_type": "display_data"
    },
    {
     "data": {
      "text/html": [
       "<table>\n",
       "    <thead>\n",
       "        <tr>\n",
       "            <th>Carrier Code</th>\n",
       "            <th>Airline Name</th>\n",
       "            <th>Average Delay</th>\n",
       "        </tr>\n",
       "    </thead>\n",
       "    <tbody>\n",
       "        <tr>\n",
       "            <td>B6</td>\n",
       "            <td>JetBlue Airways</td>\n",
       "            <td>30.157894736842106</td>\n",
       "        </tr>\n",
       "        <tr>\n",
       "            <td>OH</td>\n",
       "            <td>Comair Inc.</td>\n",
       "            <td>26.0</td>\n",
       "        </tr>\n",
       "        <tr>\n",
       "            <td>XE</td>\n",
       "            <td>Expressjet Airlines Inc.</td>\n",
       "            <td>23.3046875</td>\n",
       "        </tr>\n",
       "        <tr>\n",
       "            <td>AA</td>\n",
       "            <td>American Airlines Inc.</td>\n",
       "            <td>19.608169440242058</td>\n",
       "        </tr>\n",
       "        <tr>\n",
       "            <td>UA</td>\n",
       "            <td>United Air Lines Inc.</td>\n",
       "            <td>16.398711524695777</td>\n",
       "        </tr>\n",
       "        <tr>\n",
       "            <td>NW</td>\n",
       "            <td>Northwest Airlines Inc.</td>\n",
       "            <td>16.311720698254366</td>\n",
       "        </tr>\n",
       "        <tr>\n",
       "            <td>AS</td>\n",
       "            <td>Alaska Airlines Inc.</td>\n",
       "            <td>15.78139534883721</td>\n",
       "        </tr>\n",
       "        <tr>\n",
       "            <td>US</td>\n",
       "            <td>US Airways Inc. (Merged with America West 9/05. Reporting for both starting 10/07.)</td>\n",
       "            <td>13.11697247706422</td>\n",
       "        </tr>\n",
       "        <tr>\n",
       "            <td>DL</td>\n",
       "            <td>Delta Air Lines Inc.</td>\n",
       "            <td>12.268361581920903</td>\n",
       "        </tr>\n",
       "        <tr>\n",
       "            <td>CO</td>\n",
       "            <td>Continental Air Lines Inc.</td>\n",
       "            <td>12.004878048780487</td>\n",
       "        </tr>\n",
       "    </tbody>\n",
       "</table>\n",
       "<span style='font-style:italic;font-size:11px'><code>ResultSet</code> : to convert to pandas, call <a href='https://jupysql.ploomber.io/en/latest/integrations/pandas.html'><code>.DataFrame()</code></a> or to polars, call <a href='https://jupysql.ploomber.io/en/latest/integrations/polars.html'><code>.PolarsDataFrame()</code></a></span><br>\n",
       "<span style=\"font-style:italic;text-align:center;\">Truncated to displaylimit of 10</span><br><span style=\"font-style:italic;text-align:center;\">If you want to see more, please visit <a href=\"https://jupysql.ploomber.io/en/latest/api/configuration.html#displaylimit\">displaylimit</a> configuration</span>"
      ],
      "text/plain": [
       "+--------------+-------------------------------------------------------------------------------------+--------------------+\n",
       "| Carrier Code |                                     Airline Name                                    |   Average Delay    |\n",
       "+--------------+-------------------------------------------------------------------------------------+--------------------+\n",
       "|      B6      |                                   JetBlue Airways                                   | 30.157894736842106 |\n",
       "|      OH      |                                     Comair Inc.                                     |        26.0        |\n",
       "|      XE      |                               Expressjet Airlines Inc.                              |     23.3046875     |\n",
       "|      AA      |                                American Airlines Inc.                               | 19.608169440242058 |\n",
       "|      UA      |                                United Air Lines Inc.                                | 16.398711524695777 |\n",
       "|      NW      |                               Northwest Airlines Inc.                               | 16.311720698254366 |\n",
       "|      AS      |                                 Alaska Airlines Inc.                                | 15.78139534883721  |\n",
       "|      US      | US Airways Inc. (Merged with America West 9/05. Reporting for both starting 10/07.) | 13.11697247706422  |\n",
       "|      DL      |                                 Delta Air Lines Inc.                                | 12.268361581920903 |\n",
       "|      CO      |                              Continental Air Lines Inc.                             | 12.004878048780487 |\n",
       "+--------------+-------------------------------------------------------------------------------------+--------------------+"
      ]
     },
     "execution_count": 18,
     "metadata": {},
     "output_type": "execute_result"
    }
   ],
   "source": [
    "%%sql\n",
    "SELECT ot.UniqueCarrier AS \"Carrier Code\",\n",
    "       carriers.carrier AS \"Airline Name\",\n",
    "       AVG(ot.ArrDelay) AS \"Average Delay\"\n",
    "FROM ontime ot\n",
    "JOIN carriers ON ot.UniqueCarrier = carriers.code\n",
    "WHERE ot.Origin = 'DEN'\n",
    "GROUP BY ot.UniqueCarrier, carriers.carrier\n",
    "ORDER BY \"Average Delay\" DESC;"
   ]
  },
  {
   "cell_type": "code",
   "execution_count": 19,
   "metadata": {},
   "outputs": [],
   "source": [
    "### ^^^^^^^^^^^^^^^^^^^^^^^^^^^^^^^^^^^\n",
    "### SOLUTION in is the previous cell\n"
   ]
  },
  {
   "cell_type": "markdown",
   "metadata": {},
   "source": [
    "Query 6: What proportion of airlines are regularly late?\n",
    "------------------------\n",
    "Yeesh, there are a lot of late flights! How many airlines are regularly late?\n",
    "\n",
    "In the cell below, write a SQL query that returns the proportion of airlines (appearing in `ontime`) whose flights are on average at least 10 minutes late to arrive. For example, if 4 of 8 airlines have average arrival delays of at least 10 minutes, you would report 0.5\n",
    "\n",
    "Do not hard-code the total number of airlines, and make sure to use at least one `HAVING` clause in your SQL query.\n",
    "\n",
    "**Note:** sqlite `COUNT(*)` returns integer types. Therefore, your query should likely contain at least one `SELECT CAST (COUNT(*) AS float)` or a clause like `COUNT(*)*1.0`."
   ]
  },
  {
   "cell_type": "code",
   "execution_count": 20,
   "metadata": {},
   "outputs": [],
   "source": [
    "### PLACE YOUR SOLUTION in the next cell\n",
    "### vvvvvvvvvvvvvvvvvvvvvvvvvvvvvvvvvvvvvv"
   ]
  },
  {
   "cell_type": "code",
   "execution_count": 21,
   "metadata": {},
   "outputs": [
    {
     "data": {
      "text/html": [
       "<span style=\"None\">Running query in &#x27;sqlite:///flights.db&#x27;</span>"
      ],
      "text/plain": [
       "Running query in 'sqlite:///flights.db'"
      ]
     },
     "metadata": {},
     "output_type": "display_data"
    },
    {
     "data": {
      "text/html": [
       "<table>\n",
       "    <thead>\n",
       "        <tr>\n",
       "            <th>Percentage Late</th>\n",
       "        </tr>\n",
       "    </thead>\n",
       "    <tbody>\n",
       "        <tr>\n",
       "            <td>0.7</td>\n",
       "        </tr>\n",
       "    </tbody>\n",
       "</table>\n",
       "<span style='font-style:italic;font-size:11px'><code>ResultSet</code> : to convert to pandas, call <a href='https://jupysql.ploomber.io/en/latest/integrations/pandas.html'><code>.DataFrame()</code></a> or to polars, call <a href='https://jupysql.ploomber.io/en/latest/integrations/polars.html'><code>.PolarsDataFrame()</code></a></span><br>"
      ],
      "text/plain": [
       "+-----------------+\n",
       "| Percentage Late |\n",
       "+-----------------+\n",
       "|       0.7       |\n",
       "+-----------------+"
      ]
     },
     "execution_count": 21,
     "metadata": {},
     "output_type": "execute_result"
    }
   ],
   "source": [
    "%%sql\n",
    "\n",
    "---NOTE\n",
    "---I was having a lot of trouble implementing the HAVING clause and I believe there was a rounding issue during my implementation. \n",
    "---As a result, I instead used a different method to implement this Query which does not use HAVING.\n",
    "---This query calculates the average arrival delay for each airline, rounding it to two decimal places.\n",
    "---Uses a CASE statement to count airlines where the average delay is greater than or equal to 10 minutes.\n",
    "---Divides the count of such airlines by the total count of airlines which returns an answer that matches the one provided.\n",
    "\n",
    "SELECT (CAST(COUNT(CASE WHEN avg_delay >= 10 THEN 1 END) AS float) / COUNT(*)) AS \"Percentage Late\"\n",
    "FROM (\n",
    "    SELECT c.code, AVG(ROUND(ot.ArrDelay, 2)) AS avg_delay\n",
    "    FROM ontime ot\n",
    "    JOIN carriers c ON ot.UniqueCarrier = c.code\n",
    "    GROUP BY c.code\n",
    ") subquery;"
   ]
  },
  {
   "cell_type": "code",
   "execution_count": 22,
   "metadata": {},
   "outputs": [],
   "source": [
    "### ^^^^^^^^^^^^^^^^^^^^^^^^^^^^^^^^^^^\n",
    "### SOLUTION in is the previous cell\n"
   ]
  },
  {
   "cell_type": "markdown",
   "metadata": {},
   "source": [
    "Query 7: How do late departures affect late arrivals?\n",
    "------------------------\n",
    "It sure looks like my plane is likely to be delayed. I'd like to know: if my plane is delayed in taking off, how will it affect my arrival time?\n",
    "\n",
    "The [sample covariance](https://en.wikipedia.org/wiki/Covariance) provides a measure of the joint variability of two variables. The higher the covariance, the more the two variables behave similarly, and negative covariance indicates the variables indicate the variables tend to be inversely related. We can compute the sample covariance as:\n",
    "$$\n",
    "Cov(X,Y) = \\frac{1}{n-1} \\sum_{i=1}^n (x_i-\\bar{x})(y_i-\\bar{y})\n",
    "$$\n",
    "where $x_i$ denotes the $i$th sample of $X$, $y_i$ the $i$th sample of $Y$, and the mean of $X$ and $Y$ are denoted by $\\bar{x}$ and $\\bar{y}$.\n",
    "\n",
    "In the cell below, write a single SQL query that computes the covariance between the departure delay time and the arrival delay time. You should explicitly exclude entries where either the arrival or departure delay is NULL.\n",
    "\n",
    "*Note: we could also compute a statistic like the [Pearson correlation coefficient](https://en.wikipedia.org/wiki/Pearson_correlation_coefficient) here, which provides a normalized measure (i.e., on a scale from -1 to 1) of how strongly two variables are related. However, sqlite doesn't natively support square roots (unlike commonly-used relational databases like PostgreSQL and MySQL!), so we're asking you to compute covariance instead.*"
   ]
  },
  {
   "cell_type": "code",
   "execution_count": 23,
   "metadata": {},
   "outputs": [],
   "source": [
    "### PLACE YOUR SOLUTION in the next cell\n",
    "### vvvvvvvvvvvvvvvvvvvvvvvvvvvvvvvvvvvvvv"
   ]
  },
  {
   "cell_type": "code",
   "execution_count": 24,
   "metadata": {},
   "outputs": [
    {
     "data": {
      "text/html": [
       "<span style=\"None\">Running query in &#x27;sqlite:///flights.db&#x27;</span>"
      ],
      "text/plain": [
       "Running query in 'sqlite:///flights.db'"
      ]
     },
     "metadata": {},
     "output_type": "display_data"
    },
    {
     "data": {
      "text/html": [
       "<table>\n",
       "    <thead>\n",
       "        <tr>\n",
       "            <th>COV</th>\n",
       "        </tr>\n",
       "    </thead>\n",
       "    <tbody>\n",
       "        <tr>\n",
       "            <td>1672.7287544185144</td>\n",
       "        </tr>\n",
       "    </tbody>\n",
       "</table>\n",
       "<span style='font-style:italic;font-size:11px'><code>ResultSet</code> : to convert to pandas, call <a href='https://jupysql.ploomber.io/en/latest/integrations/pandas.html'><code>.DataFrame()</code></a> or to polars, call <a href='https://jupysql.ploomber.io/en/latest/integrations/polars.html'><code>.PolarsDataFrame()</code></a></span><br>"
      ],
      "text/plain": [
       "+--------------------+\n",
       "|        COV         |\n",
       "+--------------------+\n",
       "| 1672.7287544185144 |\n",
       "+--------------------+"
      ]
     },
     "execution_count": 24,
     "metadata": {},
     "output_type": "execute_result"
    }
   ],
   "source": [
    "%%sql\n",
    "SELECT \n",
    "    SUM((DepDelay - avg_dep_delay) * (ArrDelay - avg_arr_delay)) / (COUNT(*) - 1) AS \"COV\"\n",
    "FROM (\n",
    "    SELECT \n",
    "        DepDelay,\n",
    "        ArrDelay,\n",
    "        AVG(DepDelay) OVER () AS avg_dep_delay,\n",
    "        AVG(ArrDelay) OVER () AS avg_arr_delay\n",
    "    FROM ontime\n",
    "    WHERE DepDelay IS NOT NULL AND ArrDelay IS NOT NULL\n",
    ") subquery;"
   ]
  },
  {
   "cell_type": "code",
   "execution_count": 25,
   "metadata": {},
   "outputs": [],
   "source": [
    "### ^^^^^^^^^^^^^^^^^^^^^^^^^^^^^^^^^^^\n",
    "### SOLUTION in is the previous cell\n"
   ]
  },
  {
   "cell_type": "markdown",
   "metadata": {},
   "source": [
    "Query 8: It was a bad week...\n",
    "------------------------\n",
    "Which airlines had the largest absolute increase in average arrival delay in the last week of July (i.e., flights on or after July 24th) compared to the previous days (i.e. flights before July 24th)?\n",
    "\n",
    "In the cell below, write a single SQL query that returns the airline name (_not just_ ID) with the maximum absolute increase in average arrival delay between the first 23 days of the month and days 24-31. Report both the airline name and the absolute increase.\n",
    "\n",
    "**Note:** due to [sqlite's handling of dates](http://www.sqlite.org/lang_datefunc.html), it may be easier to query using `day_of_month`.\n",
    "\n",
    "**Note 2:** This is probably the hardest query of the assignment; break it down into subqueries that you can run one-by-one and build up your answer subquery by subquery.\n",
    "\n",
    "**Hint:** You can compute two subqueries, one to compute the average arrival delay for flights on or after July 24th, and one to compute the average arrival delay for flights before July 24th, and then join the two to calculate the increase in delay. "
   ]
  },
  {
   "cell_type": "code",
   "execution_count": 26,
   "metadata": {},
   "outputs": [],
   "source": [
    "### PLACE YOUR SOLUTION in the next cell\n",
    "### vvvvvvvvvvvvvvvvvvvvvvvvvvvvvvvvvvvvvv"
   ]
  },
  {
   "cell_type": "code",
   "execution_count": 27,
   "metadata": {},
   "outputs": [
    {
     "data": {
      "text/html": [
       "<span style=\"None\">Running query in &#x27;sqlite:///flights.db&#x27;</span>"
      ],
      "text/plain": [
       "Running query in 'sqlite:///flights.db'"
      ]
     },
     "metadata": {},
     "output_type": "display_data"
    },
    {
     "data": {
      "text/html": [
       "<table>\n",
       "    <thead>\n",
       "        <tr>\n",
       "            <th>Avg Delay Increase</th>\n",
       "            <th>Airline</th>\n",
       "        </tr>\n",
       "    </thead>\n",
       "    <tbody>\n",
       "        <tr>\n",
       "            <td>8.125207088689457</td>\n",
       "            <td>US Airways Inc. (Merged with America West 9/05. Reporting for both starting 10/07.)</td>\n",
       "        </tr>\n",
       "    </tbody>\n",
       "</table>\n",
       "<span style='font-style:italic;font-size:11px'><code>ResultSet</code> : to convert to pandas, call <a href='https://jupysql.ploomber.io/en/latest/integrations/pandas.html'><code>.DataFrame()</code></a> or to polars, call <a href='https://jupysql.ploomber.io/en/latest/integrations/polars.html'><code>.PolarsDataFrame()</code></a></span><br>"
      ],
      "text/plain": [
       "+--------------------+-------------------------------------------------------------------------------------+\n",
       "| Avg Delay Increase |                                       Airline                                       |\n",
       "+--------------------+-------------------------------------------------------------------------------------+\n",
       "| 8.125207088689457  | US Airways Inc. (Merged with America West 9/05. Reporting for both starting 10/07.) |\n",
       "+--------------------+-------------------------------------------------------------------------------------+"
      ]
     },
     "execution_count": 27,
     "metadata": {},
     "output_type": "execute_result"
    }
   ],
   "source": [
    "%%sql\n",
    "SELECT \n",
    "    ROUND(ABS(after24.avg_arr_delay_after - before24.avg_arr_delay_before), 15) AS \"Avg Delay Increase\",\n",
    "    c.carrier AS \"Airline\"\n",
    "FROM (\n",
    "    SELECT UniqueCarrier, AVG(ArrDelay) AS avg_arr_delay_after\n",
    "    FROM ontime\n",
    "    WHERE DayofMonth >= 24\n",
    "    GROUP BY UniqueCarrier\n",
    ") AS after24\n",
    "INNER JOIN (\n",
    "    SELECT UniqueCarrier, AVG(ArrDelay) AS avg_arr_delay_before\n",
    "    FROM ontime\n",
    "    WHERE DayofMonth <= 23\n",
    "    GROUP BY UniqueCarrier\n",
    ") AS before24\n",
    "ON after24.UniqueCarrier = before24.UniqueCarrier\n",
    "INNER JOIN carriers AS c\n",
    "ON after24.UniqueCarrier = c.code\n",
    "ORDER BY \"Avg Delay Increase\" DESC\n",
    "LIMIT 1;"
   ]
  },
  {
   "cell_type": "markdown",
   "metadata": {},
   "source": [
    "Query 9: Of Hipsters and Technologists\n",
    "------------------------\n",
    "I'm keen to visit both Portland (PDX) and San Francisco (SFO), but I can't fit both into the same trip. To maximize my frequent flier mileage, I'd like to use the same airline for each. Which airlines fly both DEN -> PDX and DEN -> SFO?\n",
    "\n",
    "In the cell below, write a single SQL query that returns the distinct airline names (_not_ ID, and with no duplicates) that flew both DEN -> PDX and DEN -> SFO in July 2007."
   ]
  },
  {
   "cell_type": "code",
   "execution_count": 28,
   "metadata": {},
   "outputs": [],
   "source": [
    "### PLACE YOUR SOLUTION in the next cell\n",
    "### vvvvvvvvvvvvvvvvvvvvvvvvvvvvvvvvvvvvvv"
   ]
  },
  {
   "cell_type": "code",
   "execution_count": 29,
   "metadata": {},
   "outputs": [
    {
     "data": {
      "text/html": [
       "<span style=\"None\">Running query in &#x27;sqlite:///flights.db&#x27;</span>"
      ],
      "text/plain": [
       "Running query in 'sqlite:///flights.db'"
      ]
     },
     "metadata": {},
     "output_type": "display_data"
    },
    {
     "data": {
      "text/html": [
       "<table>\n",
       "    <thead>\n",
       "        <tr>\n",
       "            <th>Airline Name</th>\n",
       "        </tr>\n",
       "    </thead>\n",
       "    <tbody>\n",
       "        <tr>\n",
       "            <td>United Air Lines Inc.</td>\n",
       "        </tr>\n",
       "        <tr>\n",
       "            <td>Frontier Airlines Inc.</td>\n",
       "        </tr>\n",
       "    </tbody>\n",
       "</table>\n",
       "<span style='font-style:italic;font-size:11px'><code>ResultSet</code> : to convert to pandas, call <a href='https://jupysql.ploomber.io/en/latest/integrations/pandas.html'><code>.DataFrame()</code></a> or to polars, call <a href='https://jupysql.ploomber.io/en/latest/integrations/polars.html'><code>.PolarsDataFrame()</code></a></span><br>"
      ],
      "text/plain": [
       "+------------------------+\n",
       "|      Airline Name      |\n",
       "+------------------------+\n",
       "| United Air Lines Inc.  |\n",
       "| Frontier Airlines Inc. |\n",
       "+------------------------+"
      ]
     },
     "execution_count": 29,
     "metadata": {},
     "output_type": "execute_result"
    }
   ],
   "source": [
    "%%sql\n",
    "SELECT DISTINCT c.carrier AS \"Airline Name\"\n",
    "FROM ontime o1\n",
    "JOIN ontime o2 ON o1.UniqueCarrier = o2.UniqueCarrier\n",
    "JOIN airports a1 ON o1.Origin = a1.IATA AND a1.City = 'Denver'\n",
    "JOIN airports a2 ON o2.Origin = a2.IATA AND a2.City = 'Denver'\n",
    "JOIN airports a3 ON o1.Dest = a3.IATA AND a3.City = 'Portland'\n",
    "JOIN airports a4 ON o2.Dest = a4.IATA AND a4.City = 'San Francisco'\n",
    "JOIN carriers c ON o1.UniqueCarrier = c.code;"
   ]
  },
  {
   "cell_type": "code",
   "execution_count": 30,
   "metadata": {},
   "outputs": [],
   "source": [
    "### ^^^^^^^^^^^^^^^^^^^^^^^^^^^^^^^^^^^\n",
    "### SOLUTION in is the previous cell\n"
   ]
  },
  {
   "cell_type": "markdown",
   "metadata": {},
   "source": [
    "Query 10: Decision Fatigue and Equidistance\n",
    "------------------------\n",
    "I'm flying back to Denver from LA later this month, and I can fly out of either LA (LAX), Ontario (ONT) or San Diego (SAN) and can fly into either Denver (DEN) or Colorado Spring (COS). If this month is like July, which flight will have the shortest arrival delay for flights leaving after 2PM local time?\n",
    "\n",
    "In the cell below, write a single SQL query that returns the average arrival delay of flights departing either LAX, ONT or SAN after 2PM local time (`CrsDepTime`) and arriving at one of DEN or COS. Group by departure and arrival airport and return results descending by arrival delay.\n",
    "\n",
    "Note: the `CrsDepTime` field is an integer formatted as hhmm (e.g. 4:15pm is 1615)"
   ]
  },
  {
   "cell_type": "code",
   "execution_count": 31,
   "metadata": {},
   "outputs": [],
   "source": [
    "### PLACE YOUR SOLUTION in the next cell\n",
    "### vvvvvvvvvvvvvvvvvvvvvvvvvvvvvvvvvvvvvv"
   ]
  },
  {
   "cell_type": "code",
   "execution_count": 32,
   "metadata": {},
   "outputs": [
    {
     "data": {
      "text/html": [
       "<span style=\"None\">Running query in &#x27;sqlite:///flights.db&#x27;</span>"
      ],
      "text/plain": [
       "Running query in 'sqlite:///flights.db'"
      ]
     },
     "metadata": {},
     "output_type": "display_data"
    },
    {
     "data": {
      "text/html": [
       "<table>\n",
       "    <thead>\n",
       "        <tr>\n",
       "            <th>Origin</th>\n",
       "            <th>Dest</th>\n",
       "            <th>Delay</th>\n",
       "        </tr>\n",
       "    </thead>\n",
       "    <tbody>\n",
       "        <tr>\n",
       "            <td>SAN</td>\n",
       "            <td>COS</td>\n",
       "            <td>25.548387096774192</td>\n",
       "        </tr>\n",
       "        <tr>\n",
       "            <td>LAX</td>\n",
       "            <td>DEN</td>\n",
       "            <td>22.167192429022084</td>\n",
       "        </tr>\n",
       "        <tr>\n",
       "            <td>SAN</td>\n",
       "            <td>DEN</td>\n",
       "            <td>18.78409090909091</td>\n",
       "        </tr>\n",
       "        <tr>\n",
       "            <td>ONT</td>\n",
       "            <td>DEN</td>\n",
       "            <td>15.767857142857142</td>\n",
       "        </tr>\n",
       "        <tr>\n",
       "            <td>LAX</td>\n",
       "            <td>COS</td>\n",
       "            <td>13.366666666666667</td>\n",
       "        </tr>\n",
       "        <tr>\n",
       "            <td>ONT</td>\n",
       "            <td>COS</td>\n",
       "            <td>8.0</td>\n",
       "        </tr>\n",
       "    </tbody>\n",
       "</table>\n",
       "<span style='font-style:italic;font-size:11px'><code>ResultSet</code> : to convert to pandas, call <a href='https://jupysql.ploomber.io/en/latest/integrations/pandas.html'><code>.DataFrame()</code></a> or to polars, call <a href='https://jupysql.ploomber.io/en/latest/integrations/polars.html'><code>.PolarsDataFrame()</code></a></span><br>"
      ],
      "text/plain": [
       "+--------+------+--------------------+\n",
       "| Origin | Dest |       Delay        |\n",
       "+--------+------+--------------------+\n",
       "|  SAN   | COS  | 25.548387096774192 |\n",
       "|  LAX   | DEN  | 22.167192429022084 |\n",
       "|  SAN   | DEN  | 18.78409090909091  |\n",
       "|  ONT   | DEN  | 15.767857142857142 |\n",
       "|  LAX   | COS  | 13.366666666666667 |\n",
       "|  ONT   | COS  |        8.0         |\n",
       "+--------+------+--------------------+"
      ]
     },
     "execution_count": 32,
     "metadata": {},
     "output_type": "execute_result"
    }
   ],
   "source": [
    "%%sql\n",
    "SELECT\n",
    "    a.Origin AS \"Origin\",\n",
    "    b.Dest AS \"Dest\",\n",
    "    AVG(ontime.ArrDelay) AS \"Delay\"\n",
    "FROM (\n",
    "    SELECT DISTINCT Origin\n",
    "    FROM ontime\n",
    "    WHERE Origin IN ('LAX', 'ONT', 'SAN')\n",
    ") AS a\n",
    "JOIN ontime ON a.Origin = ontime.Origin\n",
    "JOIN (\n",
    "    SELECT DISTINCT Dest\n",
    "    FROM ontime\n",
    "    WHERE Dest IN ('DEN', 'COS')\n",
    ") AS b ON ontime.Dest = b.Dest\n",
    "WHERE ontime.CrsDepTime >= 1400\n",
    "GROUP BY a.Origin, b.Dest\n",
    "ORDER BY \"Delay\" DESC;"
   ]
  },
  {
   "cell_type": "code",
   "execution_count": 33,
   "metadata": {},
   "outputs": [],
   "source": [
    "### ^^^^^^^^^^^^^^^^^^^^^^^^^^^^^^^^^^^\n",
    "### SOLUTION in is the previous cell\n"
   ]
  },
  {
   "cell_type": "markdown",
   "metadata": {},
   "source": [
    "## You're done! Now *commit* and *push* your notebook!\n",
    " * Make sure to submit information in the Moodle assignment.\n",
    " * Make sure you have entered your information at the top of the notebook.\n",
    " * Refer to the top of this notebook for submission instructions."
   ]
  }
 ],
 "metadata": {
  "kernelspec": {
   "display_name": "Python 3 (ipykernel)",
   "language": "python",
   "name": "python3"
  },
  "language_info": {
   "codemirror_mode": {
    "name": "ipython",
    "version": 3
   },
   "file_extension": ".py",
   "mimetype": "text/x-python",
   "name": "python",
   "nbconvert_exporter": "python",
   "pygments_lexer": "ipython3",
   "version": "3.10.8"
  },
  "nteract": {
   "version": "0.14.5"
  }
 },
 "nbformat": 4,
 "nbformat_minor": 4
}
